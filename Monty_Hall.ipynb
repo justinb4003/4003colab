{
  "nbformat": 4,
  "nbformat_minor": 0,
  "metadata": {
    "colab": {
      "provenance": [],
      "authorship_tag": "ABX9TyPKCEWdKJfw1CSHTpjXaeQ0",
      "include_colab_link": true
    },
    "kernelspec": {
      "name": "python3",
      "display_name": "Python 3"
    },
    "language_info": {
      "name": "python"
    }
  },
  "cells": [
    {
      "cell_type": "markdown",
      "metadata": {
        "id": "view-in-github",
        "colab_type": "text"
      },
      "source": [
        "<a href=\"https://colab.research.google.com/github/justinb4003/4003colab/blob/main/Monty_Hall.ipynb\" target=\"_parent\"><img src=\"https://colab.research.google.com/assets/colab-badge.svg\" alt=\"Open In Colab\"/></a>"
      ]
    },
    {
      "cell_type": "code",
      "execution_count": 70,
      "metadata": {
        "colab": {
          "base_uri": "https://localhost:8080/"
        },
        "id": "1PnBn38Hpos0",
        "outputId": "1006af5f-8a8e-4081-9fcc-4c45cc08163a"
      },
      "outputs": [
        {
          "output_type": "stream",
          "name": "stdout",
          "text": [
            "Total games: 10000\n",
            "Original guess wins: 3264\n",
            "Alternate guess wins: 6736\n"
          ]
        }
      ],
      "source": [
        "from random import randint\n",
        "\n",
        "orig_wins = 0\n",
        "alt_wins = 0\n",
        "games = 0\n",
        "\n",
        "for x in range(10000):\n",
        "    # Doors will be 0, 1, and 2 instead of 1, 2, 3 because programmers are weird\n",
        "    doors = ['goat', 'goat', 'goat']\n",
        "    winning_door = randint(0, 2)\n",
        "    doors[winning_door] = 'car'  # shove a car into the winning door slot\n",
        "    player_choice = randint(0, 2)  # player picks one at random\n",
        "\n",
        "    # The host will reveal a door that contains a goat which you have not\n",
        "    # picked. We just reveal the first one in the list with this algorithm\n",
        "    # it doesn't really matter which one is revealed though.\n",
        "    for idx, d in enumerate(doors):\n",
        "        if idx == player_choice:\n",
        "            continue\n",
        "        if d == 'goat':\n",
        "            reveal_door = idx\n",
        "    # The 2nd guess, the smarter one\n",
        "    alternate_choice = set([0, 1, 2]) - set([player_choice]) - set([reveal_door])\n",
        "    alternate_choice = list(alternate_choice)[0]  # Strip the one elemet from set\n",
        "\n",
        "    # update the running stats\n",
        "    games += 1\n",
        "    if player_choice == winning_door:\n",
        "        orig_wins += 1\n",
        "    if alternate_choice == winning_door:\n",
        "        alt_wins += 1\n",
        "\n",
        "print(f'Total games: {games}')\n",
        "print(f'Original guess wins: {orig_wins}')\n",
        "print(f'Alternate guess wins: {alt_wins}')\n",
        "\n"
      ]
    }
  ]
}