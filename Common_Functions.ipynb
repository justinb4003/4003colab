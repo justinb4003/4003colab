{
  "cells": [
    {
      "cell_type": "markdown",
      "metadata": {
        "id": "view-in-github",
        "colab_type": "text"
      },
      "source": [
        "<a href=\"https://colab.research.google.com/github/justinb4003/4003colab/blob/main/Common_Functions.ipynb\" target=\"_parent\"><img src=\"https://colab.research.google.com/assets/colab-badge.svg\" alt=\"Open In Colab\"/></a>"
      ]
<<<<<<< Updated upstream
    },
=======
     },
     "execution_count": 21,
     "metadata": {},
     "output_type": "execute_result"
    }
   ],
   "source": [
    "# If you call a function as the last thing in a cell the value is printed out\n",
    "circumference_circle(diameter=4)"
   ]
  },
  {
   "cell_type": "code",
   "execution_count": 23,
   "metadata": {},
   "outputs": [
    {
     "data": {
      "text/plain": [
       "(12.566370614359172, 25.132741228718345, 50.26548245743669, 100.53096491487338)"
      ]
     },
     "execution_count": 23,
     "metadata": {},
     "output_type": "execute_result"
    }
   ],
   "source": [
    "# Or you can explicitly print what you want to come out. Here we see that the\n",
    "# mean and average functions do the same thing\n",
    "print( average([1, 2, 3]) )\n",
    "print( mean([1, 2, 3]) )"
   ]
  },
  {
   "cell_type": "code",
   "execution_count": 22,
   "metadata": {},
   "outputs": [
>>>>>>> Stashed changes
    {
      "cell_type": "code",
      "execution_count": null,
      "metadata": {
        "id": "QXHdImK9HbyL"
      },
      "outputs": [],
      "source": [
        "import math as m  # Basic python math utilites\n",
        "\n",
        "# Solve for both roots in a quadratic equation\n",
        "def quadratic(A, B, C):\n",
        "    root1 = (-B - m.sqrt((B**2 - 4*A*C)) / (2*A))\n",
        "    root2 = (-B + m.sqrt((B**2 - 4*A*C)) / (2*A))\n",
        "    return root1, root2\n",
        "\n",
        "# Find the hypoteneus of a right triangle given the other two sides\n",
        "def pythagorean(sidea, sideb):\n",
        "    sidec = m.sqrt(sidea**2 + sideb**2)\n",
        "    return sidec\n",
        "\n",
        "# Calculate circumference of a circle with the given radius, OR you can\n",
        "# specify diameter instead.\n",
        "# Examples:\n",
        "# call with radius of 2: circumference_circle(2)\n",
        "# -OR-\n",
        "# call with radius of 2: circumference_circle(radius=2)\n",
        "# -OR-\n",
        "# call with a diameter of 4:  circumference_circle(diameter=4)\n",
        "def circumference_circle(radius=None, diameter=None):\n",
        "    if diameter is not None:\n",
        "        radius = diameter / 2\n",
        "    return 2*m.pi*radius\n",
        "\n",
        "# Calculate the area of a circle\n",
        "def area_circle(radius):\n",
        "    return m.pi * radius**2\n",
        "\n",
        "# Calculate the area of a triangle given base and height\n",
        "# (There are other ways to do this but this is the simple one most people know\n",
        "#  so I'm using it for an example)\n",
        "def area_triangle(base, height):\n",
        "    return 1/2*base*height\n",
        "\n",
        "def line_slope(x1, y1, x2, y2):\n",
        "    delta_y = y2 - y1\n",
        "    delta_x = x2 - x1\n",
        "    slope = delta_y/delta_x\n",
        "    return slope\n",
        "\n",
        "# Calculate the average or mean of  list of numbers.\n",
        "# Example of calling this: mean( [1, 2, 3] )\n",
        "def mean(list_of_numbers):\n",
        "    total = sum(list_of_numbers)\n",
        "    mean = total/len(list_of_numbers)\n",
        "    return mean\n",
        "\n",
        "average = mean  # You can alias a function in this way\n",
        "\n"
      ]
    },
    {
      "cell_type": "code",
      "execution_count": null,
      "metadata": {
        "id": "AdkfFVawHbyO",
        "outputId": "ddb013de-79d6-4940-861d-cee0977628bf"
      },
      "outputs": [
        {
          "data": {
            "text/plain": [
              "12.566370614359172"
            ]
          },
          "execution_count": 21,
          "metadata": {},
          "output_type": "execute_result"
        }
      ],
      "source": [
        "circumference_circle(diameter=4)"
      ]
    },
    {
      "cell_type": "code",
      "execution_count": null,
      "metadata": {
        "id": "Q71Ui0W9HbyP",
        "outputId": "c4916cd8-5e79-4720-9c5a-a8292dd02c74"
      },
      "outputs": [
        {
          "name": "stdout",
          "output_type": "stream",
          "text": [
            "2.0\n",
            "2.0\n"
          ]
        }
      ],
      "source": [
        "print( average([1, 2, 3]) )\n",
        "print( mean([1, 2, 3]) )"
      ]
    }
  ],
  "metadata": {
    "kernelspec": {
      "display_name": "venv",
      "language": "python",
      "name": "python3"
    },
    "language_info": {
      "codemirror_mode": {
        "name": "ipython",
        "version": 3
      },
      "file_extension": ".py",
      "mimetype": "text/x-python",
      "name": "python",
      "nbconvert_exporter": "python",
      "pygments_lexer": "ipython3",
      "version": "3.11.2"
    },
    "orig_nbformat": 4,
    "colab": {
      "provenance": [],
      "include_colab_link": true
    }
<<<<<<< Updated upstream
=======
   ],
   "source": [
    "# That last one is a bit wordy. We can alias that long function if you are\n",
    "# going to use it a lot and don't care for typing much\n",
    "cc = circumference_circle\n",
    "\n",
    "# Multiple statements on one line will return a 'tuple' of data which in the\n",
    "# notebook setting means it'll print out each value for you.\n",
    "cc(2), cc(4), cc(8), cc(16)"
   ]
  }
 ],
 "metadata": {
  "kernelspec": {
   "display_name": "venv",
   "language": "python",
   "name": "python3"
>>>>>>> Stashed changes
  },
  "nbformat": 4,
  "nbformat_minor": 0
}