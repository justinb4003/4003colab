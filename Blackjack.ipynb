{
  "cells": [
    {
      "cell_type": "markdown",
      "metadata": {
        "colab_type": "text",
        "id": "view-in-github"
      },
      "source": [
        "<a href=\"https://colab.research.google.com/github/justinb4003/4003colab/blob/main/Blackjack.ipynb\" target=\"_parent\"><img src=\"https://colab.research.google.com/assets/colab-badge.svg\" alt=\"Open In Colab\"/></a>"
      ]
    },
    {
      "cell_type": "markdown",
      "metadata": {},
      "source": [
        "# Blackjack\n",
        "\n",
        "Welcome to our little Blackjack simulator. Blackjack is a card game, generally\n",
        "associated with gambling, that doesn't have many rules and can be implemented\n",
        "in code without much effort. It's also unique among casino games in that there\n",
        "are times where the game favors the player instead of the house. The practice\n",
        "of 'counting cards' requires the player to remember what has already been\n",
        "played so they can determine when the deck will favor them. This will occur\n",
        "when there are more high value cards in the deck.\n",
        "\n",
        "https://en.wikipedia.org/wiki/Card_counting"
      ]
    },
    {
      "cell_type": "code",
      "execution_count": 31,
      "metadata": {
        "id": "rYS3zALf0Yd1",
        "outputId": "a5411c20-ef11-48f8-a97c-90613302b4f3"
      },
      "outputs": [
        {
          "data": {
            "text/plain": [
              "52"
            ]
          },
          "execution_count": 31,
          "metadata": {},
          "output_type": "execute_result"
        }
      ],
      "source": [
        "# Define a list that contains a full deck of cards\n",
        "# Each card will be a 'tuple' with two elements: the value and the suite\n",
        "values = [2, 3, 4, 5, 6, 7, 8, 9, 10, 'J', 'Q', 'K', 'A']\n",
        "suites = ['Hearts', 'Diamonds', 'Clubs', 'Spades']\n",
        "single_deck = []\n",
        "for v in values:\n",
        "    for s in suites:\n",
        "        single_deck.append((v, s))\n",
        "len(single_deck)"
      ]
    },
    {
      "cell_type": "code",
      "execution_count": 32,
      "metadata": {
        "id": "PcLcrGTa0Yd2"
      },
      "outputs": [],
      "source": [
        "# Now we take our single deck and create a full deck of 6 decks\n",
        "decks_to_use = 6\n",
        "playing_deck = []\n",
        "played_cards = []\n",
        "for x in range(decks_to_use):\n",
        "    playing_deck += single_deck.copy()\n",
        "\n",
        "# Shuffle the deck with the aptly named 'shuffle' method from the 'random' module\n",
        "from random import shuffle\n",
        "shuffle(playing_deck)"
      ]
    },
    {
      "cell_type": "code",
      "execution_count": 33,
      "metadata": {
        "id": "5zrph56g0Yd2"
      },
      "outputs": [],
      "source": [
        "# Each method in this cell represents a different way of counting the played\n",
        "# cards.\n",
        "\n",
        "def hi_lo(played):\n",
        "    count = 0\n",
        "    for card in played:\n",
        "        if card[0] in [2, 3, 4, 5, 6]:\n",
        "            count += 1\n",
        "        elif card[0] in [10, 'J', 'Q', 'K', 'A']:\n",
        "            count -= 1\n",
        "    return count\n",
        "\n",
        "def hi_opt_i(played):\n",
        "    count = 0\n",
        "    for card in played:\n",
        "        if card[0] in [3, 4, 5, 6]:\n",
        "            count += 1\n",
        "        elif card[0] in [10, 'J', 'Q', 'K']:\n",
        "            count -= 1\n",
        "    return count\n",
        "\n",
        "def hi_opt_ii(played):\n",
        "    count = 0\n",
        "    for card in played:\n",
        "        if card[0] in [2, 3, 6, 7]:\n",
        "            count += 1\n",
        "        if card[0] in [4, 5]:\n",
        "            count += 2\n",
        "        elif card[0] in [10, 'J', 'Q', 'K']:\n",
        "            count -= 2\n",
        "    return count\n",
        "\n",
        "def ko(played):\n",
        "    count = 0\n",
        "    for card in played:\n",
        "        if card[0] in [2, 3, 4, 5, 6, 7]:\n",
        "            count += 1\n",
        "        elif card[0] in [10, 'J', 'Q', 'K', 'A']:\n",
        "            count -= 1\n",
        "    return count\n",
        "\n",
        "def omega_ii(played):\n",
        "    count = 0\n",
        "    for card in played:\n",
        "        if card[0] in [2, 3, 7]:\n",
        "            count += 1\n",
        "        if card[0] in [4, 5, 6]:\n",
        "            count += 2\n",
        "        if card[0] in [9]:\n",
        "            count -= 1\n",
        "        elif card[0] in [10, 'J', 'Q', 'K']:\n",
        "            count -= 2\n",
        "    return count\n",
        "\n",
        "def halves(played):\n",
        "    count = 0\n",
        "    for card in played:\n",
        "        if card[0] in [3, 4, 6]:\n",
        "            count += 1\n",
        "        if card[0] in [5]:\n",
        "            count += 1.5\n",
        "        if card[0] in [2, 7]:\n",
        "            count += 0.5\n",
        "        if card[0] in [9]:\n",
        "            count -= 0.5\n",
        "        elif card[0] in [10, 'J', 'Q', 'K', 'A']:\n",
        "            count -= 1\n",
        "    return count"
      ]
    },
    {
      "cell_type": "code",
      "execution_count": 34,
      "metadata": {
        "id": "wGLsQXdZ0Yd3"
      },
      "outputs": [],
      "source": [
        "# Method to add up the value of a hand\n",
        "def hand_value(hand):\n",
        "    total = 0\n",
        "    aces = 0\n",
        "    for card in hand:\n",
        "        if card[0] in ['J', 'Q', 'K']:\n",
        "            total += 10\n",
        "        elif card[0] == 'A':\n",
        "            aces += 1\n",
        "        else:\n",
        "            total += card[0]\n",
        "    for x in range(aces):\n",
        "        if total + 11 <= 21:\n",
        "            total += 11\n",
        "        else:\n",
        "            total += 1\n",
        "    return total\n",
        "\n",
        "# Returns two booleans indicating if anybody won\n",
        "def determine_winner(player, dealer):\n",
        "    player_total = hand_value(player)\n",
        "    dealer_total = hand_value(dealer)\n",
        "    if player_total > 21:\n",
        "        return False, True\n",
        "    elif dealer_total > 21:\n",
        "        return True, False\n",
        "    elif player_total > dealer_total:\n",
        "        return True, False\n",
        "    elif dealer_total > player_total:\n",
        "        return False, True\n",
        "    else:\n",
        "        return True, True\n"
      ]
    },
    {
      "cell_type": "code",
      "execution_count": 43,
      "metadata": {
        "id": "953zYJhn0Yd3",
        "outputId": "a6d2f270-ebc9-4793-a0c5-a93f97c550ae"
      },
      "outputs": [
        {
          "name": "stdout",
          "output_type": "stream",
          "text": [
            "Blackjack!\n",
            "21 (3, 6, 5, 7) vs 18 (8, Q)\n",
            "Player wins!\n"
          ]
        }
      ],
      "source": [
        "# Play a hand of blackjack from the playing_deck\n",
        "dealer, player = [], []\n",
        "# When we pop() an element from a list it removes it from the list and returns it\n",
        "player.append(playing_deck.pop())\n",
        "dealer.append(playing_deck.pop())\n",
        "player.append(playing_deck.pop())\n",
        "dealer.append(playing_deck.pop())\n",
        "\n",
        "while True:\n",
        "    # Calculate the value of the player's hand\n",
        "    ptot = hand_value(player)\n",
        "    dtot = hand_value(dealer)\n",
        "    if ptot > 21:\n",
        "        print('Player busts!')\n",
        "        break\n",
        "\n",
        "    if dtot == 21 or ptot == 21:\n",
        "        print('Blackjack!')\n",
        "        break\n",
        "    # Make a string of the card values for printing\n",
        "    pcards = ', '.join([str(x[0]) for x in player])\n",
        "    dcards = ', '.join([str(x[0]) for x in dealer])\n",
        "    cmd = input(f'You have {ptot} ({pcards}) vs {dtot} ({dcards}) (h)it or (s)tand: ').lower()\n",
        "    if cmd == 'h':\n",
        "        player.append(playing_deck.pop())\n",
        "    elif cmd == 's':\n",
        "        break\n",
        "    else:\n",
        "        print(f'Invalid command: {cmd}')\n",
        "\n",
        "# Now the dealer plays\n",
        "while hand_value(dealer) < 17:\n",
        "    dealer.append(playing_deck.pop())\n",
        "ptot = hand_value(player)\n",
        "dtot = hand_value(dealer)\n",
        "pcards = ', '.join([str(x[0]) for x in player])\n",
        "dcards = ', '.join([str(x[0]) for x in dealer])\n",
        "print(f'{ptot} ({pcards}) vs {dtot} ({dcards})')\n",
        "pwin, dwin = determine_winner(player, dealer)\n",
        "if pwin and dwin:\n",
        "    print('Push!')\n",
        "elif pwin:\n",
        "    print('Player wins!')\n",
        "elif dwin:\n",
        "    print('Dealer wins!')\n",
        "\n",
        "played_cards += player.copy() + dealer.copy()\n"
      ]
    },
    {
      "cell_type": "code",
      "execution_count": null,
      "metadata": {
        "id": "7G6VPGXW0Yd4",
        "outputId": "2684509d-7a08-40f9-f064-c6ffc8ffb296"
      },
      "outputs": [],
      "source": [
        "print(f'Hi-Lo count: {hi_lo(played_cards)}')\n",
        "print(f'Halves count: {halves(played_cards)}')\n"
      ]
    }
  ],
  "metadata": {
    "colab": {
      "include_colab_link": true,
      "provenance": []
    },
    "kernelspec": {
      "display_name": "venv",
      "language": "python",
      "name": "python3"
    },
    "language_info": {
      "codemirror_mode": {
        "name": "ipython",
        "version": 3
      },
      "file_extension": ".py",
      "mimetype": "text/x-python",
      "name": "python",
      "nbconvert_exporter": "python",
      "pygments_lexer": "ipython3",
      "version": "3.11.2"
    }
  },
  "nbformat": 4,
  "nbformat_minor": 0
}
