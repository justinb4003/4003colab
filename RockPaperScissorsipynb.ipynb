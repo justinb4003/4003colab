{
  "nbformat": 4,
  "nbformat_minor": 0,
  "metadata": {
    "colab": {
      "provenance": [],
      "authorship_tag": "ABX9TyMsVln2ugHVBLS4abBEF5xi",
      "include_colab_link": true
    },
    "kernelspec": {
      "name": "python3",
      "display_name": "Python 3"
    },
    "language_info": {
      "name": "python"
    }
  },
  "cells": [
    {
      "cell_type": "markdown",
      "metadata": {
        "id": "view-in-github",
        "colab_type": "text"
      },
      "source": [
        "<a href=\"https://colab.research.google.com/github/justinb4003/4003colab/blob/main/RockPaperScissorsipynb.ipynb\" target=\"_parent\"><img src=\"https://colab.research.google.com/assets/colab-badge.svg\" alt=\"Open In Colab\"/></a>"
      ]
    },
    {
      "cell_type": "code",
      "execution_count": 24,
      "metadata": {
        "colab": {
          "base_uri": "https://localhost:8080/"
        },
        "id": "qqcYdv1nVqq5",
        "outputId": "e2fb2128-1e07-465d-84fc-01923fc70c2b"
      },
      "outputs": [
        {
          "output_type": "stream",
          "name": "stdout",
          "text": [
            "Enter one of rock, paper, or scissorsrock\n",
            "Match result: Computer wins  (Computer chose paper)\n"
          ]
        }
      ],
      "source": [
        "# This library contains things related to generating random data, not just\n",
        "# random things\n",
        "import random\n",
        "\n",
        "# We make a list of the three strings we consider proper names for our choices\n",
        "hands = ['rock', 'paper', 'scissors']\n",
        "\n",
        "# A function to determine who has won the game. There are many ways of\n",
        "# writing something like this and it can be fun to play with the logic.\n",
        "def compute_winner(computer, user):\n",
        "    if computer == user:\n",
        "        return 'Tie'\n",
        "\n",
        "    if computer == 'rock':\n",
        "        if user == 'paper':\n",
        "            return 'User wins'\n",
        "        else:\n",
        "            return 'Computer wins'\n",
        "\n",
        "    elif computer == 'paper':\n",
        "        if user == 'rock':\n",
        "            return 'Computer wins'\n",
        "        else:\n",
        "            return 'User wins'\n",
        "\n",
        "    elif computer == 'scissors':\n",
        "        if user == 'rock':\n",
        "            return 'User wins'\n",
        "        else:\n",
        "            return 'Computer wins'\n",
        "    return 'Unknown winner'  # This shouldn't happen. Ever.\n",
        "\n",
        "\n",
        "# The random.choice() method picks a random element from the list given to it\n",
        "computer_choice = random.choice(hands)\n",
        "user_choice = input(f'Enter one of rock, paper, or scissors')\n",
        "if user_choice not in hands:\n",
        "    print(f'{user_choice} is invalid so I give up on you.')\n",
        "else:\n",
        "    result = compute_winner(computer_choice, user_choice)\n",
        "    print(f'Match result: {result}  (Computer chose {computer_choice})')\n",
        "\n"
      ]
    }
  ]
}