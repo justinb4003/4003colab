{
  "nbformat": 4,
  "nbformat_minor": 0,
  "metadata": {
    "colab": {
      "name": "4003 Intro 01.ipynb",
      "provenance": [],
      "collapsed_sections": [],
      "authorship_tag": "ABX9TyORyj2xJHw0EDmtxwMukE5B",
      "include_colab_link": true
    },
    "kernelspec": {
      "name": "python3",
      "display_name": "Python 3"
    }
  },
  "cells": [
    {
      "cell_type": "markdown",
      "metadata": {
        "id": "view-in-github",
        "colab_type": "text"
      },
      "source": [
        "<a href=\"https://colab.research.google.com/github/justinb4003/4003colab/blob/main/Intro_01.ipynb\" target=\"_parent\"><img src=\"https://colab.research.google.com/assets/colab-badge.svg\" alt=\"Open In Colab\"/></a>"
      ]
    },
    {
      "cell_type": "markdown",
      "metadata": {
        "id": "v1Jre8dXK_nD"
      },
      "source": [
        "The first thing we'll do is the basic exercise for pretty much every first introduction to a new language:  Get the computer to print \"Hello, World!\" back to you, sort of signaling that the system is alive and gets you familiar with the basic boilerplate code you'll need to be generating.  \n",
        "\n",
        "\n",
        "In Java that would look something like this (don't fret over the details, this is just an illustration): \n",
        "```java\n",
        "class HelloWorld {\n",
        "    public static void main(String[] args) {\n",
        "        System.out.println(\"Hello, World!\"); \n",
        "    }\n",
        "}\n",
        "```\n",
        "\n",
        "Or in C++ like this (again, don't fret over the details):\n",
        "```cpp\n",
        "#include <iostream>\n",
        "\n",
        "using namespace std;\n",
        "int main(int argc, char* argv[]) {\n",
        "    cout << \"Hello World!\";\n",
        "    return 0;\n",
        "}\n",
        "```\n",
        "However, this is neither, this is Python, and we are in a \"notebook\" environment which is handy for rapid prototyping and makes the easy things easy.  To accomplish the same task as the above code in your code box below type:\n",
        "```\n",
        "\"Hello, World!\"\n",
        "```\n",
        "Then click the play icon next to the cell.  That's it."
      ]
    },
    {
      "cell_type": "code",
      "metadata": {
        "id": "ffU6zkejTn_r"
      },
      "source": [
        ""
      ],
      "execution_count": null,
      "outputs": []
    },
    {
      "cell_type": "markdown",
      "metadata": {
        "id": "arHe8NwDPmoI"
      },
      "source": [
        "Ok, so having the computer echo literally what you just typed into it isn't very useful.  You can toss a random equation at it and it'll print the result out for you.  Again, not the most impressive use of a vast network of computers capable of running on custom CPUs and GPUs meant for high end mathematically processing, but it's a start!\n",
        "\n",
        "And, quite honestly, if you learn nothing from this other than Python makes for a handy scientific calculator that's not all bad.\n",
        "\n",
        "Go ahead and throw some math down into the box below and it will compute the number.  You use / for division, * for multiplication, + and - for the obvious, and if you'd like an exponent (say 2 to the 8th power) that would be 2**8."
      ]
    },
    {
      "cell_type": "code",
      "metadata": {
        "id": "8EqlUQcPTpoW"
      },
      "source": [
        "10 + 4"
      ],
      "execution_count": null,
      "outputs": []
    },
    {
      "cell_type": "markdown",
      "metadata": {
        "id": "Sjs-a77dTypo"
      },
      "source": [
        "Ok, so semi-useful, but now we're going to make the logic jump from punching things into a very simple calculator into the world of algebra.  If you can handle the whole y = 3x + 2 the following, I hope, tracks easily enough.\n",
        "\n",
        "In programming we can assign a value to a variable like we do in algebra, illustrated below in the code snippet:"
      ]
    },
    {
      "cell_type": "code",
      "metadata": {
        "id": "B7y8JHl9Tp0d"
      },
      "source": [
        "x = 2\r\n",
        "y = 3*x+2\r\n",
        "y"
      ],
      "execution_count": null,
      "outputs": []
    },
    {
      "cell_type": "markdown",
      "metadata": {
        "id": "q-s_7zhsXkZk"
      },
      "source": [
        "This is getting handy!\n",
        "\n",
        "If you don't want to rely on the notebook shortcut to provide output you can justuse the built in ```print()``` statement to produce output.  This is pretty much your best debugging tool.  No matter what environment you're in you're generally able to generate some text output and while debuggers that let you step through code with breakpoints and watches on memory locations are wonderful an awful lot of time it's just a well placed print statement that gets the job done.\n",
        "\n",
        "And, since we're in a notebook environment with no debugger I've left you no choice but to use print statements."
      ]
    },
    {
      "cell_type": "code",
      "metadata": {
        "id": "RKXjTjHEtvE2"
      },
      "source": [
        "print(\"Hello, World!\")\n",
        "print(10 + 42)\n",
        "y = 2**8\n",
        "print(y)"
      ],
      "execution_count": null,
      "outputs": []
    },
    {
      "cell_type": "markdown",
      "metadata": {
        "id": "Ef8jCrP5w7QU"
      },
      "source": [
        "That's probably a good end to a first lesson and spot for questions."
      ]
    }
  ]
}