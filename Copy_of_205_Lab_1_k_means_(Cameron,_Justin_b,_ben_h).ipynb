{
  "nbformat": 4,
  "nbformat_minor": 0,
  "metadata": {
    "colab": {
      "provenance": [],
      "collapsed_sections": [
        "03L92gRE0WE9"
      ],
      "include_colab_link": true
    },
    "kernelspec": {
      "name": "python3",
      "display_name": "Python 3"
    }
  },
  "cells": [
    {
      "cell_type": "markdown",
      "metadata": {
        "id": "view-in-github",
        "colab_type": "text"
      },
      "source": [
        "<a href=\"https://colab.research.google.com/github/justinb4003/4003colab/blob/main/Copy_of_205_Lab_1_k_means_(Cameron%2C_Justin_b%2C_ben_h).ipynb\" target=\"_parent\"><img src=\"https://colab.research.google.com/assets/colab-badge.svg\" alt=\"Open In Colab\"/></a>"
      ]
    },
    {
      "cell_type": "code",
      "source": [],
      "metadata": {
        "id": "zBf-GMg7sD-o"
      },
      "execution_count": null,
      "outputs": []
    },
    {
      "cell_type": "markdown",
      "metadata": {
        "id": "99Yi7ZrpzsqP"
      },
      "source": [
        "# Lab 1:  k-means clustering #\n",
        "\n",
        "**Due:  by 4 pm on Monday, September 18**\n",
        "\n",
        "Work in groups of 2 or 3 students.\n",
        "\n",
        "Make a copy of this notebook so you can edit it, and put the last names of your group members in place of \"students\" in the title.  When your work is complete, print this file to PDF and save the PDF.  In addition, scan your work on Activity 6.1.4 to PDF.  Upload both files to Blackboard under the Lab 1 Assignment.\n",
        "\n",
        "This lab will be marked on a 25 point scale.  10 points are allocated to Activity 6.1.4, and 15 points to this notebook.  In Activity 6.1.4, the allocations are (a) - 2, (b) - 2, (c) - 1, (d) - 3, (e) - 2.  In the notebook, were you see notation such as \"[3]\", that indicates that responding to that prompt is correlated to 3 of the 25 points.  In many of those questions, you are prompted to complete a sentence that is noted *in italics*."
      ]
    },
    {
      "cell_type": "markdown",
      "metadata": {
        "id": "LfmbIw8DWYlq"
      },
      "source": [
        "**Group members:**  (double-click here to enter)"
      ]
    },
    {
      "cell_type": "markdown",
      "metadata": {
        "id": "y26r24Z_WRqQ"
      },
      "source": [
        "This lab will introduce you further to a machine learning algorithm called *k-means clustering*.  Sometimes we have a large collection of data and believe that it breaks naturally into groups. For instance, we could be looking at medical data from a group of patients who have either type 1 or type 2 diabetes. We would expect that data from a type 1 patient would be similar to other type 1 patients and somewhat distinct from type 2 patients.\n",
        "\n",
        "Now that we can measure the length of vectors, we can develop a measure of when\n",
        "two data points are similar. More specifically, we imagine representing the individual pieces of information corresponding to a single patient as a vector. If patients are similar, their vectors should lie close to one another. In the case of diabetes patients, we might expect that the vectors from the two types would cluster together. The problem is that we may have a lot of data about the patients—age, weight, etc—so the vectors may be high dimensional and hence not easily visualized.\n",
        "\n",
        "When you evaluate the following cell, you will load a module that allows you to use Sage syntax.  You will also load in a dataset with 152 2-dimensional points and display them.  Our eventual goal is to break the dataset into clusters."
      ]
    },
    {
      "cell_type": "code",
      "metadata": {
        "id": "4tGhRgInynJK",
        "colab": {
          "base_uri": "https://localhost:8080/",
          "height": 609
        },
        "outputId": "d356bc08-5282-4143-b800-e8fa7ae67541"
      },
      "source": [
        "!rm -rf mth205/\n",
        "!mkdir -p mth205\n",
        "!git clone https://github.com/davidaustinm/MTH205-W20.git mth205/\n",
        "import sys\n",
        "sys.path.append('/content/mth205/libs')\n",
        "from mth205 import *\n",
        "from math import *\n",
        "import numpy as np\n",
        "import pandas as pd\n",
        "import matplotlib.pyplot as plt\n",
        "import matplotlib\n",
        "\n",
        "def kmeans(data, k):\n",
        "    N = 15\n",
        "    centroids = np.random.choice(data, k)\n",
        "    for _ in range(N):\n",
        "      clusters = [ [] for __ in range(k)]\n",
        "      for datum in data:\n",
        "        distances = [ (datum - centroids[j]).norm() for j in range(k)]\n",
        "        clusters[np.argmin(distances)].append(datum)\n",
        "      centroids = [mean(clusters[j]) if len(clusters[j]) > 0 else centroids[j] for j in range(k)]\n",
        "    distances = [sum([ (clusters[i][j] - centroids[i]).norm()**2 for j in range(len(clusters[i]))]) for i in range(len(clusters))]\n",
        "    return [clusters, centroids, sum(distances)/len(data)]\n",
        "\n",
        "def plotclusters(clusters, centroids, figsize=(8,8)):\n",
        "    k = len(clusters)\n",
        "    cmap = matplotlib.colormaps['hsv'].resampled(k+1)\n",
        "    fig, ax = plt.subplots(figsize=figsize)\n",
        "    ax.set_aspect(1)\n",
        "    for j in range(k):\n",
        "        X, Y = np.array([v.entries for v in clusters[j]]).T\n",
        "        ax.scatter(x=X, y=Y, c=[cmap(j)]*len(clusters[j]))\n",
        "    if len(centroids) > 0:\n",
        "        X, Y = np.array([c.entries for c in centroids]).T\n",
        "        ax.scatter(x=X,y=Y, s=75, c='black')\n",
        "\n",
        "df = pd.read_csv('/content/mth205/data/clusters_data.csv')\n",
        "data = [vector(row) for row in df.values]\n",
        "list_plot(data, size=40, aspect_ratio=1, dims=(8, 8))"
      ],
      "execution_count": null,
      "outputs": [
        {
          "output_type": "stream",
          "name": "stdout",
          "text": [
            "Cloning into 'mth205'...\n",
            "remote: Enumerating objects: 637, done.\u001b[K\n",
            "remote: Counting objects: 100% (146/146), done.\u001b[K\n",
            "remote: Compressing objects: 100% (110/110), done.\u001b[K\n",
            "remote: Total 637 (delta 57), reused 108 (delta 36), pack-reused 491\u001b[K\n",
            "Receiving objects: 100% (637/637), 659.82 KiB | 13.20 MiB/s, done.\n",
            "Resolving deltas: 100% (251/251), done.\n"
          ]
        },
        {
          "output_type": "display_data",
          "data": {
            "text/plain": [
              "<Figure size 800x800 with 1 Axes>"
            ],
            "image/png": "[encoded data removed]"
          },
          "metadata": {}
        }
      ]
    },
    {
      "cell_type": "code",
      "source": [],
      "metadata": {
        "id": "YzngDgo9g5fa"
      },
      "execution_count": null,
      "outputs": []
    },
    {
      "cell_type": "markdown",
      "metadata": {
        "id": "03L92gRE0WE9"
      },
      "source": [
        "### Part 1:  Centroids - completed by hand in Act 6.1.4 ###\n",
        "\n",
        "(If you want to check your work in Act 6.1.4, you can carefully read this part that is an electronic version of that activity, but you need not do so.  This is just included here for completeness.  Nonetheless, you should execute the code here to load the vectors and clusters we worked with in Activity 6.1.4 so that you can use them later in the lab.)\n",
        "\n",
        "Throughout this lab, we will think of a point $(x,y)$ as defining a vector $\\begin{bmatrix} x \\\\ y \\\\ \\end{bmatrix}$ and vice-versa.\n",
        "\n",
        "The centroid of a collection of vectors ${\\mathbf v}_1, {\\mathbf v}_2, \\ldots, {\\mathbf v}_n$ is defined to be the point (or vector)\n",
        "$$\n",
        "\\frac1n({\\mathbf v}_1 + {\\mathbf v}_2 + \\ldots + {\\mathbf v}_n).\n",
        "$$\n",
        "\n",
        "Suppose we start with a simple set of three points (or vectors):\n",
        "$$\n",
        "{\\mathbf v}_1 = \\begin{bmatrix} 1 \\\\ 1 \\end{bmatrix},\n",
        "{\\mathbf v}_2 = \\begin{bmatrix} 4 \\\\ 1 \\end{bmatrix},\n",
        "{\\mathbf v}_3 = \\begin{bmatrix} 4 \\\\ 4 \\end{bmatrix}.\n",
        "$$\n",
        "\n",
        "The following cell defines these vectors and plots them.\n"
      ]
    },
    {
      "cell_type": "code",
      "metadata": {
        "id": "nGjj4Fo9y288",
        "colab": {
          "base_uri": "https://localhost:8080/",
          "height": 368
        },
        "outputId": "856777a9-8cc3-40a4-d040-87272b3e2dc5"
      },
      "source": [
        "v1 = vector([1,1])\n",
        "v2 = vector([4,1])\n",
        "v3 = vector([4,4])\n",
        "plotclusters([[v1, v2, v3]], [], figsize=(4,4))"
      ],
      "execution_count": null,
      "outputs": [
        {
          "output_type": "display_data",
          "data": {
            "text/plain": [
              "<Figure size 400x400 with 1 Axes>"
            ],
            "image/png": "[encoded data removed]"
          },
          "metadata": {}
        }
      ]
    },
    {
      "cell_type": "markdown",
      "metadata": {
        "id": "jRWxeFY7Y1pH"
      },
      "source": [
        "Find the centroid of these three points and define it to be <code>centroid</code>."
      ]
    },
    {
      "cell_type": "code",
      "metadata": {
        "id": "30CGzPAIZAgG",
        "colab": {
          "base_uri": "https://localhost:8080/",
          "height": 368
        },
        "outputId": "76b17569-c760-4739-99fc-7a6d09452dbe"
      },
      "source": [
        "v1 = vector([1,1])\n",
        "v2 = vector([4,1])\n",
        "v3 = vector([4,4])\n",
        "centroid = vector([3,2])  # define the centroid as the vector you've found\n",
        "plotclusters([[v1, v2, v3, centroid]], [], figsize=(4,4))"
      ],
      "execution_count": null,
      "outputs": [
        {
          "output_type": "display_data",
          "data": {
            "text/plain": [
              "<Figure size 400x400 with 1 Axes>"
            ],
            "image/png": "[encoded data removed]"
          },
          "metadata": {}
        }
      ]
    },
    {
      "cell_type": "markdown",
      "metadata": {
        "id": "R0niCMObY1bO"
      },
      "source": [
        "Evaluating the next cell will display the data points and the centroid in black.  Notice how the centroid is \"centrally\" located."
      ]
    },
    {
      "cell_type": "code",
      "metadata": {
        "id": "9yr2r7ZnZKSB",
        "colab": {
          "base_uri": "https://localhost:8080/",
          "height": 676
        },
        "outputId": "c62a4189-d901-40ba-ba15-b6fc3b50e371"
      },
      "source": [
        "plotclusters([[v1, v2, v3]], [centroid])"
      ],
      "execution_count": null,
      "outputs": [
        {
          "output_type": "display_data",
          "data": {
            "text/plain": [
              "<Figure size 800x800 with 1 Axes>"
            ],
            "image/png": "[encoded data removed]"
          },
          "metadata": {}
        }
      ]
    },
    {
      "cell_type": "markdown",
      "metadata": {
        "id": "Gv5eoLsbY1ON"
      },
      "source": [
        "### Part 2:  Constructing a clustering - completed by hand in Act 6.1.4 ###\n",
        "\n",
        "(Again, if you want to check your work in Act 6.1.4, you can do this part that is an electronic version of that activity, but you need not do so.  This is just included here for completeness.)\n",
        "\n",
        "We will now see how to break a dataset up into clusters.  Let's look at a simple dataset consisting of the following four points:\n",
        "$$\n",
        "{\\mathbf v}_1 = \\begin{bmatrix} -2 \\\\ 1 \\end{bmatrix},\n",
        "{\\mathbf v}_2 = \\begin{bmatrix} 1 \\\\ 1 \\end{bmatrix},\n",
        "{\\mathbf v}_3 = \\begin{bmatrix} 1 \\\\ 2 \\end{bmatrix},\n",
        "{\\mathbf v}_4 = \\begin{bmatrix} 3 \\\\ 2 \\end{bmatrix}\n",
        "$$\n",
        "and split the points into two clusters.  Evaluate the following cell to visualize the data points.\n",
        "\n"
      ]
    },
    {
      "cell_type": "code",
      "metadata": {
        "id": "cHFP2aM8aV9c",
        "colab": {
          "base_uri": "https://localhost:8080/",
          "height": 184
        },
        "outputId": "2c4db67f-30a3-4e90-a9c8-b2ae7dcc567b"
      },
      "source": [
        "v1 = vector([-2,1])\n",
        "v2 = vector([1,1])\n",
        "v3 = vector([1,2])\n",
        "v4 = vector([3,2])\n",
        "plotclusters([[v1, v2, v3, v4]], [])"
      ],
      "execution_count": null,
      "outputs": [
        {
          "output_type": "display_data",
          "data": {
            "text/plain": [
              "<Figure size 800x800 with 1 Axes>"
            ],
            "image/png": "[encoded data removed]"
          },
          "metadata": {}
        }
      ]
    },
    {
      "cell_type": "markdown",
      "metadata": {
        "id": "l7O2UYf8Y0dY"
      },
      "source": [
        "Here's how the algorithm works:\n",
        "* Since we want to split the points into two clusters, we will randomly choose two points $c_1$ and $c_2$.  For our random choice, we will choose\n",
        "$c_1 = {\\mathbf v}_2$ and $c_2 = {\\mathbf v}_3$.\n",
        "* Break the data points ${\\mathbf v}_1,\\ldots,{\\mathbf v}_4$ into two clusters $C_1$ and $C_2$.  The first cluster $C_1$ consists of the points that are closer to $c_1$ than to $c_2$.  The second cluster $C_2$ consists of the points that are closer to $c_2$ than to $c_1$.  \n",
        "\n",
        "Enter your clusters in the next cell.  For instance, if $C_1 = \\{{\\mathbf v}_1, {\\mathbf v}_4\\}$, you can enter:\n",
        "\n",
        "<code> C1 = [ v1, v4 ] </code>\n",
        "\n",
        "Note:  this is just illustrating how to input a cluster, not that this is the cluster asked for below."
      ]
    },
    {
      "cell_type": "code",
      "metadata": {
        "id": "5g7XMHLCbYH6",
        "colab": {
          "base_uri": "https://localhost:8080/",
          "height": 184
        },
        "outputId": "47cbc47b-2dfe-4135-ab51-a5ce0626f373"
      },
      "source": [
        "C1 = [v1, v2 ] # enter your first cluster here\n",
        "C2 = [v3, v4 ] # enter your second cluster here\n",
        "plotclusters([C1, C2], [])"
      ],
      "execution_count": null,
      "outputs": [
        {
          "output_type": "display_data",
          "data": {
            "text/plain": [
              "<Figure size 800x800 with 1 Axes>"
            ],
            "image/png": "[encoded data removed]"
          },
          "metadata": {}
        }
      ]
    },
    {
      "cell_type": "markdown",
      "metadata": {
        "id": "fdBxU4WEb8QH"
      },
      "source": [
        "* Now update the points $c_1$ and $c_2$ by setting $c_1$ to be the centroid of the cluster $C_1$ and $c_2$ to be the centroid of the cluster $C_2$."
      ]
    },
    {
      "cell_type": "code",
      "metadata": {
        "id": "VF29rQmkcJRl",
        "colab": {
          "base_uri": "https://localhost:8080/",
          "height": 184
        },
        "outputId": "32894e0a-d961-4446-af78-894be309ec1e"
      },
      "source": [
        "c1 = vector([-0.5, 1 ])  # find the first centroid and enter its coordinates here\n",
        "c2 = vector([2, 2])  # find the second centroid and enter its coordinates here\n",
        "plotclusters([C1, C2], [c1, c2])"
      ],
      "execution_count": null,
      "outputs": [
        {
          "output_type": "display_data",
          "data": {
            "text/plain": [
              "<Figure size 800x800 with 1 Axes>"
            ],
            "image/png": "[encoded data removed]"
          },
          "metadata": {}
        }
      ]
    },
    {
      "cell_type": "markdown",
      "metadata": {
        "id": "zBRtgOLVchvE"
      },
      "source": [
        "* Now we update the clusters $C_1$ to be the set of data points that are closer to $c_1$ than $c_2$ and $C_2$ to be the set of data points that are closer to $c_2$ than $c_1$.  Note that you can find the distance between two points, represented as vectors, by <code>(u - v).norm()</code>."
      ]
    },
    {
      "cell_type": "code",
      "metadata": {
        "id": "bRx4H1Chc5d7",
        "colab": {
          "base_uri": "https://localhost:8080/",
          "height": 1000
        },
        "outputId": "59c2d94f-8d73-4aaa-c677-7294a9b7cc16"
      },
      "source": [
        "C1 = vector([-2,1])  # enter the updated first cluster\n",
        "C2 = [v2, v3, v4 ]  # enter the updated second cluster\n",
        "plotclusters([C1, C2], [])"
      ],
      "execution_count": null,
      "outputs": [
        {
          "output_type": "error",
          "ename": "AttributeError",
          "evalue": "ignored",
          "traceback": [
            "\u001b[0;31m---------------------------------------------------------------------------\u001b[0m",
            "\u001b[0;31mAttributeError\u001b[0m                            Traceback (most recent call last)",
            "\u001b[0;32m<ipython-input-17-454195da4a5c>\u001b[0m in \u001b[0;36m<cell line: 3>\u001b[0;34m()\u001b[0m\n\u001b[1;32m      1\u001b[0m \u001b[0mC1\u001b[0m \u001b[0;34m=\u001b[0m \u001b[0mvector\u001b[0m\u001b[0;34m(\u001b[0m\u001b[0;34m[\u001b[0m\u001b[0;34m-\u001b[0m\u001b[0;36m2\u001b[0m\u001b[0;34m,\u001b[0m\u001b[0;36m1\u001b[0m\u001b[0;34m]\u001b[0m\u001b[0;34m)\u001b[0m  \u001b[0;31m# enter the updated first cluster\u001b[0m\u001b[0;34m\u001b[0m\u001b[0;34m\u001b[0m\u001b[0m\n\u001b[1;32m      2\u001b[0m \u001b[0mC2\u001b[0m \u001b[0;34m=\u001b[0m \u001b[0;34m[\u001b[0m\u001b[0mv2\u001b[0m\u001b[0;34m,\u001b[0m \u001b[0mv3\u001b[0m\u001b[0;34m,\u001b[0m \u001b[0mv4\u001b[0m \u001b[0;34m]\u001b[0m  \u001b[0;31m# enter the updated second cluster\u001b[0m\u001b[0;34m\u001b[0m\u001b[0;34m\u001b[0m\u001b[0m\n\u001b[0;32m----> 3\u001b[0;31m \u001b[0mplotclusters\u001b[0m\u001b[0;34m(\u001b[0m\u001b[0;34m[\u001b[0m\u001b[0mC1\u001b[0m\u001b[0;34m,\u001b[0m \u001b[0mC2\u001b[0m\u001b[0;34m]\u001b[0m\u001b[0;34m,\u001b[0m \u001b[0;34m[\u001b[0m\u001b[0;34m]\u001b[0m\u001b[0;34m)\u001b[0m\u001b[0;34m\u001b[0m\u001b[0;34m\u001b[0m\u001b[0m\n\u001b[0m",
            "\u001b[0;32m<ipython-input-2-597024c18ffe>\u001b[0m in \u001b[0;36mplotclusters\u001b[0;34m(clusters, centroids, figsize)\u001b[0m\n\u001b[1;32m     29\u001b[0m     \u001b[0max\u001b[0m\u001b[0;34m.\u001b[0m\u001b[0mset_aspect\u001b[0m\u001b[0;34m(\u001b[0m\u001b[0;36m1\u001b[0m\u001b[0;34m)\u001b[0m\u001b[0;34m\u001b[0m\u001b[0;34m\u001b[0m\u001b[0m\n\u001b[1;32m     30\u001b[0m     \u001b[0;32mfor\u001b[0m \u001b[0mj\u001b[0m \u001b[0;32min\u001b[0m \u001b[0mrange\u001b[0m\u001b[0;34m(\u001b[0m\u001b[0mk\u001b[0m\u001b[0;34m)\u001b[0m\u001b[0;34m:\u001b[0m\u001b[0;34m\u001b[0m\u001b[0;34m\u001b[0m\u001b[0m\n\u001b[0;32m---> 31\u001b[0;31m         \u001b[0mX\u001b[0m\u001b[0;34m,\u001b[0m \u001b[0mY\u001b[0m \u001b[0;34m=\u001b[0m \u001b[0mnp\u001b[0m\u001b[0;34m.\u001b[0m\u001b[0marray\u001b[0m\u001b[0;34m(\u001b[0m\u001b[0;34m[\u001b[0m\u001b[0mv\u001b[0m\u001b[0;34m.\u001b[0m\u001b[0mentries\u001b[0m \u001b[0;32mfor\u001b[0m \u001b[0mv\u001b[0m \u001b[0;32min\u001b[0m \u001b[0mclusters\u001b[0m\u001b[0;34m[\u001b[0m\u001b[0mj\u001b[0m\u001b[0;34m]\u001b[0m\u001b[0;34m]\u001b[0m\u001b[0;34m)\u001b[0m\u001b[0;34m.\u001b[0m\u001b[0mT\u001b[0m\u001b[0;34m\u001b[0m\u001b[0;34m\u001b[0m\u001b[0m\n\u001b[0m\u001b[1;32m     32\u001b[0m         \u001b[0max\u001b[0m\u001b[0;34m.\u001b[0m\u001b[0mscatter\u001b[0m\u001b[0;34m(\u001b[0m\u001b[0mx\u001b[0m\u001b[0;34m=\u001b[0m\u001b[0mX\u001b[0m\u001b[0;34m,\u001b[0m \u001b[0my\u001b[0m\u001b[0;34m=\u001b[0m\u001b[0mY\u001b[0m\u001b[0;34m,\u001b[0m \u001b[0mc\u001b[0m\u001b[0;34m=\u001b[0m\u001b[0;34m[\u001b[0m\u001b[0mcmap\u001b[0m\u001b[0;34m(\u001b[0m\u001b[0mj\u001b[0m\u001b[0;34m)\u001b[0m\u001b[0;34m]\u001b[0m\u001b[0;34m*\u001b[0m\u001b[0mlen\u001b[0m\u001b[0;34m(\u001b[0m\u001b[0mclusters\u001b[0m\u001b[0;34m[\u001b[0m\u001b[0mj\u001b[0m\u001b[0;34m]\u001b[0m\u001b[0;34m)\u001b[0m\u001b[0;34m)\u001b[0m\u001b[0;34m\u001b[0m\u001b[0;34m\u001b[0m\u001b[0m\n\u001b[1;32m     33\u001b[0m     \u001b[0;32mif\u001b[0m \u001b[0mlen\u001b[0m\u001b[0;34m(\u001b[0m\u001b[0mcentroids\u001b[0m\u001b[0;34m)\u001b[0m \u001b[0;34m>\u001b[0m \u001b[0;36m0\u001b[0m\u001b[0;34m:\u001b[0m\u001b[0;34m\u001b[0m\u001b[0;34m\u001b[0m\u001b[0m\n",
            "\u001b[0;32m<ipython-input-2-597024c18ffe>\u001b[0m in \u001b[0;36m<listcomp>\u001b[0;34m(.0)\u001b[0m\n\u001b[1;32m     29\u001b[0m     \u001b[0max\u001b[0m\u001b[0;34m.\u001b[0m\u001b[0mset_aspect\u001b[0m\u001b[0;34m(\u001b[0m\u001b[0;36m1\u001b[0m\u001b[0;34m)\u001b[0m\u001b[0;34m\u001b[0m\u001b[0;34m\u001b[0m\u001b[0m\n\u001b[1;32m     30\u001b[0m     \u001b[0;32mfor\u001b[0m \u001b[0mj\u001b[0m \u001b[0;32min\u001b[0m \u001b[0mrange\u001b[0m\u001b[0;34m(\u001b[0m\u001b[0mk\u001b[0m\u001b[0;34m)\u001b[0m\u001b[0;34m:\u001b[0m\u001b[0;34m\u001b[0m\u001b[0;34m\u001b[0m\u001b[0m\n\u001b[0;32m---> 31\u001b[0;31m         \u001b[0mX\u001b[0m\u001b[0;34m,\u001b[0m \u001b[0mY\u001b[0m \u001b[0;34m=\u001b[0m \u001b[0mnp\u001b[0m\u001b[0;34m.\u001b[0m\u001b[0marray\u001b[0m\u001b[0;34m(\u001b[0m\u001b[0;34m[\u001b[0m\u001b[0mv\u001b[0m\u001b[0;34m.\u001b[0m\u001b[0mentries\u001b[0m \u001b[0;32mfor\u001b[0m \u001b[0mv\u001b[0m \u001b[0;32min\u001b[0m \u001b[0mclusters\u001b[0m\u001b[0;34m[\u001b[0m\u001b[0mj\u001b[0m\u001b[0;34m]\u001b[0m\u001b[0;34m]\u001b[0m\u001b[0;34m)\u001b[0m\u001b[0;34m.\u001b[0m\u001b[0mT\u001b[0m\u001b[0;34m\u001b[0m\u001b[0;34m\u001b[0m\u001b[0m\n\u001b[0m\u001b[1;32m     32\u001b[0m         \u001b[0max\u001b[0m\u001b[0;34m.\u001b[0m\u001b[0mscatter\u001b[0m\u001b[0;34m(\u001b[0m\u001b[0mx\u001b[0m\u001b[0;34m=\u001b[0m\u001b[0mX\u001b[0m\u001b[0;34m,\u001b[0m \u001b[0my\u001b[0m\u001b[0;34m=\u001b[0m\u001b[0mY\u001b[0m\u001b[0;34m,\u001b[0m \u001b[0mc\u001b[0m\u001b[0;34m=\u001b[0m\u001b[0;34m[\u001b[0m\u001b[0mcmap\u001b[0m\u001b[0;34m(\u001b[0m\u001b[0mj\u001b[0m\u001b[0;34m)\u001b[0m\u001b[0;34m]\u001b[0m\u001b[0;34m*\u001b[0m\u001b[0mlen\u001b[0m\u001b[0;34m(\u001b[0m\u001b[0mclusters\u001b[0m\u001b[0;34m[\u001b[0m\u001b[0mj\u001b[0m\u001b[0;34m]\u001b[0m\u001b[0;34m)\u001b[0m\u001b[0;34m)\u001b[0m\u001b[0;34m\u001b[0m\u001b[0;34m\u001b[0m\u001b[0m\n\u001b[1;32m     33\u001b[0m     \u001b[0;32mif\u001b[0m \u001b[0mlen\u001b[0m\u001b[0;34m(\u001b[0m\u001b[0mcentroids\u001b[0m\u001b[0;34m)\u001b[0m \u001b[0;34m>\u001b[0m \u001b[0;36m0\u001b[0m\u001b[0;34m:\u001b[0m\u001b[0;34m\u001b[0m\u001b[0;34m\u001b[0m\u001b[0m\n",
            "\u001b[0;31mAttributeError\u001b[0m: 'numpy.int64' object has no attribute 'entries'"
          ]
        },
        {
          "output_type": "display_data",
          "data": {
            "text/plain": [
              "<Figure size 800x800 with 1 Axes>"
            ],
            "image/png": "[encoded data removed]"
          },
          "metadata": {}
        }
      ]
    },
    {
      "cell_type": "markdown",
      "metadata": {
        "id": "l7nPkcpEdRop"
      },
      "source": [
        "* Now update the centroids one last time.  "
      ]
    },
    {
      "cell_type": "code",
      "metadata": {
        "id": "FFXFmEb-dF-I",
        "colab": {
          "base_uri": "https://localhost:8080/",
          "height": 595
        },
        "outputId": "c9109a7c-cb33-4eba-af94-40bcf5ddb899"
      },
      "source": [
        "c1 = vector([v1])  # find and enter the updated first centroid\n",
        "c2 = vector([v2, v3, v4])  # find and enter the udpated second centroid\n",
        "plotclusters([C1, C2], [c1, c2])"
      ],
      "execution_count": null,
      "outputs": [
        {
          "output_type": "stream",
          "name": "stderr",
          "text": [
            "<ipython-input-1-597024c18ffe>:34: VisibleDeprecationWarning: Creating an ndarray from ragged nested sequences (which is a list-or-tuple of lists-or-tuples-or ndarrays with different lengths or shapes) is deprecated. If you meant to do this, you must specify 'dtype=object' when creating the ndarray.\n",
            "  X, Y = np.array([c.entries for c in centroids]).T\n"
          ]
        },
        {
          "output_type": "error",
          "ename": "ValueError",
          "evalue": "ignored",
          "traceback": [
            "\u001b[0;31m---------------------------------------------------------------------------\u001b[0m",
            "\u001b[0;31mValueError\u001b[0m                                Traceback (most recent call last)",
            "\u001b[0;32m<ipython-input-13-3b1c44b350ab>\u001b[0m in \u001b[0;36m<cell line: 3>\u001b[0;34m()\u001b[0m\n\u001b[1;32m      1\u001b[0m \u001b[0mc1\u001b[0m \u001b[0;34m=\u001b[0m \u001b[0mvector\u001b[0m\u001b[0;34m(\u001b[0m\u001b[0;34m[\u001b[0m\u001b[0mv1\u001b[0m\u001b[0;34m]\u001b[0m\u001b[0;34m)\u001b[0m  \u001b[0;31m# find and enter the updated first centroid\u001b[0m\u001b[0;34m\u001b[0m\u001b[0;34m\u001b[0m\u001b[0m\n\u001b[1;32m      2\u001b[0m \u001b[0mc2\u001b[0m \u001b[0;34m=\u001b[0m \u001b[0mvector\u001b[0m\u001b[0;34m(\u001b[0m\u001b[0;34m[\u001b[0m\u001b[0mv2\u001b[0m\u001b[0;34m,\u001b[0m \u001b[0mv3\u001b[0m\u001b[0;34m,\u001b[0m \u001b[0mv4\u001b[0m\u001b[0;34m]\u001b[0m\u001b[0;34m)\u001b[0m  \u001b[0;31m# find and enter the udpated second centroid\u001b[0m\u001b[0;34m\u001b[0m\u001b[0;34m\u001b[0m\u001b[0m\n\u001b[0;32m----> 3\u001b[0;31m \u001b[0mplotclusters\u001b[0m\u001b[0;34m(\u001b[0m\u001b[0;34m[\u001b[0m\u001b[0mC1\u001b[0m\u001b[0;34m,\u001b[0m \u001b[0mC2\u001b[0m\u001b[0;34m]\u001b[0m\u001b[0;34m,\u001b[0m \u001b[0;34m[\u001b[0m\u001b[0mc1\u001b[0m\u001b[0;34m,\u001b[0m \u001b[0mc2\u001b[0m\u001b[0;34m]\u001b[0m\u001b[0;34m)\u001b[0m\u001b[0;34m\u001b[0m\u001b[0;34m\u001b[0m\u001b[0m\n\u001b[0m",
            "\u001b[0;32m<ipython-input-1-597024c18ffe>\u001b[0m in \u001b[0;36mplotclusters\u001b[0;34m(clusters, centroids, figsize)\u001b[0m\n\u001b[1;32m     33\u001b[0m     \u001b[0;32mif\u001b[0m \u001b[0mlen\u001b[0m\u001b[0;34m(\u001b[0m\u001b[0mcentroids\u001b[0m\u001b[0;34m)\u001b[0m \u001b[0;34m>\u001b[0m \u001b[0;36m0\u001b[0m\u001b[0;34m:\u001b[0m\u001b[0;34m\u001b[0m\u001b[0;34m\u001b[0m\u001b[0m\n\u001b[1;32m     34\u001b[0m         \u001b[0mX\u001b[0m\u001b[0;34m,\u001b[0m \u001b[0mY\u001b[0m \u001b[0;34m=\u001b[0m \u001b[0mnp\u001b[0m\u001b[0;34m.\u001b[0m\u001b[0marray\u001b[0m\u001b[0;34m(\u001b[0m\u001b[0;34m[\u001b[0m\u001b[0mc\u001b[0m\u001b[0;34m.\u001b[0m\u001b[0mentries\u001b[0m \u001b[0;32mfor\u001b[0m \u001b[0mc\u001b[0m \u001b[0;32min\u001b[0m \u001b[0mcentroids\u001b[0m\u001b[0;34m]\u001b[0m\u001b[0;34m)\u001b[0m\u001b[0;34m.\u001b[0m\u001b[0mT\u001b[0m\u001b[0;34m\u001b[0m\u001b[0;34m\u001b[0m\u001b[0m\n\u001b[0;32m---> 35\u001b[0;31m         \u001b[0max\u001b[0m\u001b[0;34m.\u001b[0m\u001b[0mscatter\u001b[0m\u001b[0;34m(\u001b[0m\u001b[0mx\u001b[0m\u001b[0;34m=\u001b[0m\u001b[0mX\u001b[0m\u001b[0;34m,\u001b[0m\u001b[0my\u001b[0m\u001b[0;34m=\u001b[0m\u001b[0mY\u001b[0m\u001b[0;34m,\u001b[0m \u001b[0ms\u001b[0m\u001b[0;34m=\u001b[0m\u001b[0;36m75\u001b[0m\u001b[0;34m,\u001b[0m \u001b[0mc\u001b[0m\u001b[0;34m=\u001b[0m\u001b[0;34m'black'\u001b[0m\u001b[0;34m)\u001b[0m\u001b[0;34m\u001b[0m\u001b[0;34m\u001b[0m\u001b[0m\n\u001b[0m\u001b[1;32m     36\u001b[0m \u001b[0;34m\u001b[0m\u001b[0m\n\u001b[1;32m     37\u001b[0m \u001b[0mdf\u001b[0m \u001b[0;34m=\u001b[0m \u001b[0mpd\u001b[0m\u001b[0;34m.\u001b[0m\u001b[0mread_csv\u001b[0m\u001b[0;34m(\u001b[0m\u001b[0;34m'/content/mth205/data/clusters_data.csv'\u001b[0m\u001b[0;34m)\u001b[0m\u001b[0;34m\u001b[0m\u001b[0;34m\u001b[0m\u001b[0m\n",
            "\u001b[0;32m/usr/local/lib/python3.10/dist-packages/matplotlib/__init__.py\u001b[0m in \u001b[0;36minner\u001b[0;34m(ax, data, *args, **kwargs)\u001b[0m\n\u001b[1;32m   1440\u001b[0m     \u001b[0;32mdef\u001b[0m \u001b[0minner\u001b[0m\u001b[0;34m(\u001b[0m\u001b[0max\u001b[0m\u001b[0;34m,\u001b[0m \u001b[0;34m*\u001b[0m\u001b[0margs\u001b[0m\u001b[0;34m,\u001b[0m \u001b[0mdata\u001b[0m\u001b[0;34m=\u001b[0m\u001b[0;32mNone\u001b[0m\u001b[0;34m,\u001b[0m \u001b[0;34m**\u001b[0m\u001b[0mkwargs\u001b[0m\u001b[0;34m)\u001b[0m\u001b[0;34m:\u001b[0m\u001b[0;34m\u001b[0m\u001b[0;34m\u001b[0m\u001b[0m\n\u001b[1;32m   1441\u001b[0m         \u001b[0;32mif\u001b[0m \u001b[0mdata\u001b[0m \u001b[0;32mis\u001b[0m \u001b[0;32mNone\u001b[0m\u001b[0;34m:\u001b[0m\u001b[0;34m\u001b[0m\u001b[0;34m\u001b[0m\u001b[0m\n\u001b[0;32m-> 1442\u001b[0;31m             \u001b[0;32mreturn\u001b[0m \u001b[0mfunc\u001b[0m\u001b[0;34m(\u001b[0m\u001b[0max\u001b[0m\u001b[0;34m,\u001b[0m \u001b[0;34m*\u001b[0m\u001b[0mmap\u001b[0m\u001b[0;34m(\u001b[0m\u001b[0msanitize_sequence\u001b[0m\u001b[0;34m,\u001b[0m \u001b[0margs\u001b[0m\u001b[0;34m)\u001b[0m\u001b[0;34m,\u001b[0m \u001b[0;34m**\u001b[0m\u001b[0mkwargs\u001b[0m\u001b[0;34m)\u001b[0m\u001b[0;34m\u001b[0m\u001b[0;34m\u001b[0m\u001b[0m\n\u001b[0m\u001b[1;32m   1443\u001b[0m \u001b[0;34m\u001b[0m\u001b[0m\n\u001b[1;32m   1444\u001b[0m         \u001b[0mbound\u001b[0m \u001b[0;34m=\u001b[0m \u001b[0mnew_sig\u001b[0m\u001b[0;34m.\u001b[0m\u001b[0mbind\u001b[0m\u001b[0;34m(\u001b[0m\u001b[0max\u001b[0m\u001b[0;34m,\u001b[0m \u001b[0;34m*\u001b[0m\u001b[0margs\u001b[0m\u001b[0;34m,\u001b[0m \u001b[0;34m**\u001b[0m\u001b[0mkwargs\u001b[0m\u001b[0;34m)\u001b[0m\u001b[0;34m\u001b[0m\u001b[0;34m\u001b[0m\u001b[0m\n",
            "\u001b[0;32m/usr/local/lib/python3.10/dist-packages/matplotlib/axes/_axes.py\u001b[0m in \u001b[0;36mscatter\u001b[0;34m(self, x, y, s, c, marker, cmap, norm, vmin, vmax, alpha, linewidths, edgecolors, plotnonfinite, **kwargs)\u001b[0m\n\u001b[1;32m   4582\u001b[0m         \u001b[0my\u001b[0m \u001b[0;34m=\u001b[0m \u001b[0mnp\u001b[0m\u001b[0;34m.\u001b[0m\u001b[0mma\u001b[0m\u001b[0;34m.\u001b[0m\u001b[0mravel\u001b[0m\u001b[0;34m(\u001b[0m\u001b[0my\u001b[0m\u001b[0;34m)\u001b[0m\u001b[0;34m\u001b[0m\u001b[0;34m\u001b[0m\u001b[0m\n\u001b[1;32m   4583\u001b[0m         \u001b[0;32mif\u001b[0m \u001b[0mx\u001b[0m\u001b[0;34m.\u001b[0m\u001b[0msize\u001b[0m \u001b[0;34m!=\u001b[0m \u001b[0my\u001b[0m\u001b[0;34m.\u001b[0m\u001b[0msize\u001b[0m\u001b[0;34m:\u001b[0m\u001b[0;34m\u001b[0m\u001b[0;34m\u001b[0m\u001b[0m\n\u001b[0;32m-> 4584\u001b[0;31m             \u001b[0;32mraise\u001b[0m \u001b[0mValueError\u001b[0m\u001b[0;34m(\u001b[0m\u001b[0;34m\"x and y must be the same size\"\u001b[0m\u001b[0;34m)\u001b[0m\u001b[0;34m\u001b[0m\u001b[0;34m\u001b[0m\u001b[0m\n\u001b[0m\u001b[1;32m   4585\u001b[0m \u001b[0;34m\u001b[0m\u001b[0m\n\u001b[1;32m   4586\u001b[0m         \u001b[0;32mif\u001b[0m \u001b[0ms\u001b[0m \u001b[0;32mis\u001b[0m \u001b[0;32mNone\u001b[0m\u001b[0;34m:\u001b[0m\u001b[0;34m\u001b[0m\u001b[0;34m\u001b[0m\u001b[0m\n",
            "\u001b[0;31mValueError\u001b[0m: x and y must be the same size"
          ]
        },
        {
          "output_type": "display_data",
          "data": {
            "text/plain": [
              "<Figure size 800x800 with 1 Axes>"
            ],
            "image/png": "[encoded data removed]"
          },
          "metadata": {}
        }
      ]
    },
    {
      "cell_type": "markdown",
      "metadata": {
        "id": "U4IdAv3ydme3"
      },
      "source": [
        "At this point, if we update the clusters $C_1$ and $C_2$ as before, we will find the same clusters and the same centroids.  This means that there is no point in continuing so we declare this to be our final clustering."
      ]
    },
    {
      "cell_type": "markdown",
      "metadata": {
        "id": "VXDY9Iimd4-V"
      },
      "source": [
        "### Part 3:  The objective function ###\n",
        "\n",
        "As we'll see in a moment, there are many different clusterings so we would like to have a way to measure how good a clustering is.  For instance, we feel like a clustering is good if all the points in a cluster are close to their cluster's centroid.  We therefore define the *objective* of the clusterings to be the average, taken over all data points, of the square of the distance from each data point to the centroid of its cluster.  The smaller the objective is, the better the clustering because that implies that the points are generally close to their centroids so we have tight clusters.\n",
        "\n",
        "[3] Find the objective of the first clustering we found in Activity 6.1.4:  the one with centroids $c_1 = \\mathbf{v}_1$ and $c_2 = (\\frac{5}{3}, \\frac{5}{3})$ that uses $C_1 = \\mathbf{v}_1$  and $C_2 = \\{\\mathbf{v}_2, \\mathbf{v}_3, \\mathbf{v}_4\\}$.  \n",
        "\n",
        "Notice that you can find the square of the distance between two points using\n",
        "\n",
        "<code>(u - v).norm()**2</code>\n",
        "\n",
        "Enter your code to accomplish this in the cell below, and complete the following sentence in italics that states your conclusion.\n",
        "\n",
        "*The objective of this clustering is*"
      ]
    },
    {
      "cell_type": "code",
      "metadata": {
        "id": "vSxg7BxCgfm3"
      },
      "source": [],
      "execution_count": null,
      "outputs": []
    },
    {
      "cell_type": "markdown",
      "metadata": {
        "id": "EhL8nwumjy2a"
      },
      "source": [
        "Remember that our algorithm begins by randomly choosing points $c_1$ and $c_2$ from the set of data points.  If we had made a different choice, we would have obtained a different clustering.  For instance, if $c_1 = {\\mathbf v}_3$ and $c_2 = {\\mathbf v}_4$, then we would have obtained the clustering\n",
        "\n",
        "$$\n",
        "C_1 = \\{{\\mathbf v}_1, {\\mathbf v}_2, {\\mathbf v}_3\\},\n",
        "C_2 = \\{{\\mathbf v}_4\\}.\n",
        "$$"
      ]
    },
    {
      "cell_type": "code",
      "metadata": {
        "id": "8O70bQtRjxsP"
      },
      "source": [
        "plotclusters([[v1, v2, v3], [v4]], [])"
      ],
      "execution_count": null,
      "outputs": []
    },
    {
      "cell_type": "markdown",
      "metadata": {
        "id": "jGJ9_uTtjxVd"
      },
      "source": [
        "[2] How does this clustering compare to the one you found above?  What is the objective of this second clustering?\n",
        "\n",
        "Write a sentence to explain visually how the two clusterings compare, compute the objective of the second clustering in the cell below, and then write one more sentence (to finish the one started below) to say how this affirms your visual observations.\n",
        "\n",
        "*Comparing the clusters, we see ...*"
      ]
    },
    {
      "cell_type": "code",
      "source": [],
      "metadata": {
        "id": "9UF_1Pbbs2pm"
      },
      "execution_count": null,
      "outputs": []
    },
    {
      "cell_type": "markdown",
      "metadata": {
        "id": "nKFIgHq81uQA"
      },
      "source": [
        "### Part 4:  A more realistic example ###\n",
        "\n",
        "Evaluate the cell below to look at a larger data set."
      ]
    },
    {
      "cell_type": "code",
      "metadata": {
        "id": "2tAddlVplliB",
        "colab": {
          "base_uri": "https://localhost:8080/",
          "height": 488
        },
        "outputId": "af573038-5a1e-4bdc-db11-bbd7e42a3294"
      },
      "source": [
        "data = [vector(row) for row in df.values]\n",
        "list_plot(data, size=40, aspect_ratio=1, dims=(8, 8))"
      ],
      "execution_count": null,
      "outputs": [
        {
          "output_type": "display_data",
          "data": {
            "text/plain": [
              "<Figure size 800x800 with 1 Axes>"
            ],
            "image/png": "[encoded data removed]"
          },
          "metadata": {}
        }
      ]
    },
    {
      "cell_type": "markdown",
      "metadata": {
        "id": "z4uJv-7cliWX"
      },
      "source": [
        "[1] By visually inspecting, what do you think would be a good number of clusters into which to group these points?  Double click this cell and record your observation below.  We will compare it to the value we find algorithmically.\n",
        "\n",
        "**Our guess for the number of clusters is **"
      ]
    },
    {
      "cell_type": "markdown",
      "metadata": {
        "id": "l5Pm7m-C-Tf8"
      },
      "source": [
        "Evaluating the cell below will create a clustering with two clusters, print the value of the objective, and plot the clusters in different colors.  The centroids of the clusters are also shown in black."
      ]
    },
    {
      "cell_type": "code",
      "metadata": {
        "id": "I5wZqfjK18-Q"
      },
      "source": [
        "k = 2\n",
        "clusters, centroids, objective = kmeans(data, k)\n",
        "print (\"Objective =\", objective)\n",
        "plotclusters(clusters, centroids)"
      ],
      "execution_count": null,
      "outputs": []
    },
    {
      "cell_type": "markdown",
      "metadata": {
        "id": "IV8cVZu-BZ8y"
      },
      "source": [
        "Evaluate the cell above several times.  You should notice that the clusterings and their objectives change;  this is because we are randomly choosing two points to start the algorithm, and this choice leads to different final clusterings.  \n",
        "\n",
        "You should also run the algorithm with $k=6$ several times.  Notice that clusterings with a lower objective look like better clusterings.\n",
        "\n",
        "In practice, we run the algorithm many times and choose the clustering with the smallest objective.  If you evaluate the cell below, you will have a function that, when given a value of $k$, finds 10 clusterings for that $k$-value and picks out the one with the smallest objective.  Go ahead and evaluate that cell now, and we'll use it in the cells below."
      ]
    },
    {
      "cell_type": "code",
      "metadata": {
        "id": "9jLG-gQM5_AU"
      },
      "source": [
        "from operator import itemgetter\n",
        "def minimalobjective(data, k):\n",
        "    results = [kmeans(data, k) for _ in range(10)]\n",
        "    results = sorted(results, key=itemgetter(2))\n",
        "    return results[0]"
      ],
      "execution_count": null,
      "outputs": []
    },
    {
      "cell_type": "markdown",
      "metadata": {
        "id": "1ntmdugjBkvh"
      },
      "source": [
        "The next cell below sets a value for $k$ and then finds the clustering with the lowest objective, prints out the objective, and displays the clustering.  Evaluate this cell for $k=2,3,4,\\ldots, 9$.  For each value of $k$, notice how the clusterings and the objectives change.\n",
        "\n",
        "[3] Record the results of your executions in the text below by double-clicking here and adding ordered pairs of the form \"(k, Objective(k))\" to complete a \"table\".\n",
        "\n",
        "*Our table of values is*\n",
        "\n",
        "(2, 3.901)\n",
        "\n",
        "(3,"
      ]
    },
    {
      "cell_type": "code",
      "metadata": {
        "id": "BBELb7kP6PIQ"
      },
      "source": [
        "k = 2\n",
        "clusters, centroids, objective = minimalobjective(data, k)\n",
        "print (\"Objective =\", objective)\n",
        "plotclusters(clusters, centroids)"
      ],
      "execution_count": null,
      "outputs": []
    },
    {
      "cell_type": "markdown",
      "metadata": {
        "id": "MtvQ8Ep6nMWl"
      },
      "source": [
        "The cell below creates a plot that displays how the objective of the best clustering depends on $k$.  This is simply a plot of the ordered pairs that you found in your just-completed work above.  It is sometimes called an *elbow* plot because there is a value of $k$, called the elbow, where the plot flattens out.  At this point, increasing the number of clusters $k$ doesn't really improve the clustering.  It is, therefore, typical to declare the value of $k$ at the elbow to be the one that gives the best clustering."
      ]
    },
    {
      "cell_type": "code",
      "metadata": {
        "id": "Minnf6gcBpgQ"
      },
      "source": [
        "elbow = np.array([[k, minimalobjective(data, k)[2]] for k in range(2, 11)])\n",
        "pd.DataFrame(elbow).set_index(0).plot(figsize=(10,6))"
      ],
      "execution_count": null,
      "outputs": []
    },
    {
      "cell_type": "markdown",
      "metadata": {
        "id": "30Dcz3ssq69q"
      },
      "source": [
        "[3] Where do you see the elbow occuring?  What is the value of $k$ we should choose for the best clustering?  How does this compare to your visual assessment of the data and experimenting with $k$-values 2 cells above?  \n",
        "\n",
        "* *We see the elbow occurring at*\n",
        "* *We think the best value of $k$ is*\n",
        "* *In our visual assessment,*\n",
        "\n",
        "Now enter that value in the cell below and plot the resulting clustering."
      ]
    },
    {
      "cell_type": "code",
      "metadata": {
        "id": "fp_pH5vApwEC"
      },
      "source": [
        "k =   # your value of k here\n",
        "clusters, centroids, objective = minimalobjective(data, k)\n",
        "print (\"Objective =\", objective)\n",
        "plotclusters(clusters, centroids)"
      ],
      "execution_count": null,
      "outputs": []
    },
    {
      "cell_type": "markdown",
      "metadata": {
        "id": "SMVaWC30uGOm"
      },
      "source": [
        "In practice, we often work with datasets in many dimensions (more than three) that cannot be easily visualized.  The $k$-means algorithm still works then and can give us a way of organizing and exploring the data."
      ]
    },
    {
      "cell_type": "markdown",
      "source": [
        "[3] In conclusion, write a paragraph that explains, in your own words, the big ideas behind the k-means clustering algorithm.\n",
        "\n"
      ],
      "metadata": {
        "id": "Hf9UrzyBnyTt"
      }
    }
  ]
}