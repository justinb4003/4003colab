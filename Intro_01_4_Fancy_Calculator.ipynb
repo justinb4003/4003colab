{
  "nbformat": 4,
  "nbformat_minor": 0,
  "metadata": {
    "colab": {
      "provenance": [],
      "authorship_tag": "ABX9TyP6cEv/9RfmfQthSbjzkssA",
      "include_colab_link": true
    },
    "kernelspec": {
      "name": "python3",
      "display_name": "Python 3"
    }
  },
  "cells": [
    {
      "cell_type": "markdown",
      "metadata": {
        "id": "view-in-github",
        "colab_type": "text"
      },
      "source": [
        "<a href=\"https://colab.research.google.com/github/justinb4003/4003colab/blob/main/Intro_01_4_Fancy_Calculator.ipynb\" target=\"_parent\"><img src=\"https://colab.research.google.com/assets/colab-badge.svg\" alt=\"Open In Colab\"/></a>"
      ]
    },
    {
      "cell_type": "markdown",
      "metadata": {
        "id": "EYMpHhxh_XE6"
      },
      "source": [
        "# Computers are calculators\n",
        "\n",
        "One of the stranger remarks I've seen online in my life was on the website SlashDot.org when somebody did some math in a comment but said they didn't have a calculator to check it with. Odd, given they were almost certainly using an entire PC to get on the internet to leave said comment.\n",
        "\n",
        "These things are giant calculators!\n",
        "\n",
        "And Python has a heavy mathematics influence due to the designer's background. It makes for, at the very least, a wonderful replacement to the scientific or graphic calculator, and consideribly much more powerful.\n",
        "\n",
        "# Notation Differences\n",
        "You might notice that your computer keyboard doesn't have all of the buttons that a graphic calculator has. You likely can't find $\\arctan\\frac{x}{y}$ anywhere. That's okay. We'll just have to use a combination of buttons to spell things like out ``atan``, ``asin``, and ``acos`` for arctangent, arcsine and arccosine. The square root function is ``sqrt`` and absolute value is ``abs`` as some examples. The core math functions in Python are contained in the ``math`` package and you can see a list of what it contains here: https://docs.python.org/3/library/math.html\n",
        "\n",
        "There are far more mathematical functions out there for Python than this! This is just the core package and has most of what a high school student is alrady familiar with or might find useful.\n",
        "\n",
        "There are a few different ways to import these packages, and they're hard to explain so I'll just demonstrate them in three different code cells.\n",
        "\n",
        "We'll use an example where we find the hypotenus of a triangle with sidees having lengths 3 and 4 ($c=\\sqrt{a^2+b^2}$) Next, we find the area of a circle with radius 4 ($A=πr^2$).\n",
        "\n",
        "Before we jump in, a quick note, to represent exponents in python we use ``**`` so $r^2$ is ``r**2``.\n",
        "\n"
      ]
    },
    {
      "cell_type": "code",
      "source": [
        "# First technique is to just import the math package so we can access things inside it\n",
        "import math\n",
        "\n",
        "a = 3\n",
        "b = 4\n",
        "c = math.sqrt(a**2 + b**2)\n",
        "print(c)\n",
        "\n",
        "r = 4\n",
        "A = math.pi * r**2\n",
        "print(A)"
      ],
      "metadata": {
        "colab": {
          "base_uri": "https://localhost:8080/"
        },
        "id": "csGbgofNLGXM",
        "outputId": "fde0ded4-d9e0-42d3-9a0c-e7508ea54cc6"
      },
      "execution_count": 3,
      "outputs": [
        {
          "output_type": "stream",
          "name": "stdout",
          "text": [
            "5.0\n",
            "50.26548245743669\n"
          ]
        }
      ]
    },
    {
      "cell_type": "code",
      "source": [
        "# Next we can selectively import what we want out of the math package and\n",
        "# use it without the math. prefix.\n",
        "from math import sqrt, pi\n",
        "a = 3\n",
        "b = 4\n",
        "c = sqrt(a**2 + b**2)\n",
        "print(c)\n",
        "\n",
        "r = 4\n",
        "A = pi * r**2\n",
        "print(A)"
      ],
      "metadata": {
        "colab": {
          "base_uri": "https://localhost:8080/"
        },
        "id": "J_ab10JRMHuo",
        "outputId": "5271e465-6de1-48ee-dda6-a4eb1404b52e"
      },
      "execution_count": 4,
      "outputs": [
        {
          "output_type": "stream",
          "name": "stdout",
          "text": [
            "5.0\n",
            "50.26548245743669\n"
          ]
        }
      ]
    },
    {
      "cell_type": "code",
      "source": [
        "# The last technique isn't looked at too fondly because we just \"smash\" everything\n",
        "# from the package into the top namespace, but, it's probably fine.\n",
        "# If all the code you're writing fits on one screen it's fine to do it this way\n",
        "from math import *\n",
        "\n",
        "a = 3\n",
        "b = 4\n",
        "c = sqrt(a**2 + b**2)\n",
        "print(c)\n",
        "\n",
        "r = 4\n",
        "A = pi * r**2\n",
        "print(A)"
      ],
      "metadata": {
        "colab": {
          "base_uri": "https://localhost:8080/"
        },
        "id": "d4ZZKmW4MSQO",
        "outputId": "0bb1ae6e-9293-456a-f9c0-249e7a99744d"
      },
      "execution_count": 6,
      "outputs": [
        {
          "output_type": "stream",
          "name": "stdout",
          "text": [
            "5.0\n",
            "50.26548245743669\n"
          ]
        }
      ]
    },
    {
      "cell_type": "markdown",
      "source": [
        "Most of the above is pretty verbose and using variables when you might not really need to. You can use it to just bang out some quick math too.\n",
        "\n",
        "This one won't have any import statements in it because once they're run in a notebook they affect everthing. Because we did the ``from math import *`` I've msashed all of the variables and methods from that package into the top namespace.\n",
        "\n",
        "It's not uncommon for a notebook to start with a cell of just import statements. That way they're run once in the beginning and every other cell will have access to what was brought it. It keeps things consistent. So, let's just do some quick math in some example cells.\n"
      ],
      "metadata": {
        "id": "2dDKAMV8QNdW"
      }
    },
    {
      "cell_type": "code",
      "source": [
        "pi * 4**2"
      ],
      "metadata": {
        "colab": {
          "base_uri": "https://localhost:8080/"
        },
        "id": "kZ3qs62kQ_ZR",
        "outputId": "b78119a8-ccf0-48e7-aff0-837ed4575d1a"
      },
      "execution_count": 8,
      "outputs": [
        {
          "output_type": "execute_result",
          "data": {
            "text/plain": [
              "50.26548245743669"
            ]
          },
          "metadata": {},
          "execution_count": 8
        }
      ]
    },
    {
      "cell_type": "code",
      "source": [
        "sqrt(3*3 + 4*4)"
      ],
      "metadata": {
        "colab": {
          "base_uri": "https://localhost:8080/"
        },
        "id": "3WcUreOARHWv",
        "outputId": "c5901050-93ea-4ba6-fea6-ff8bfecd0731"
      },
      "execution_count": 9,
      "outputs": [
        {
          "output_type": "execute_result",
          "data": {
            "text/plain": [
              "5.0"
            ]
          },
          "metadata": {},
          "execution_count": 9
        }
      ]
    }
  ]
}