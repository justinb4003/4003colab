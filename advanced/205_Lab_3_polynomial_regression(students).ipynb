{
  "nbformat": 4,
  "nbformat_minor": 0,
  "metadata": {
    "colab": {
      "provenance": [],
      "include_colab_link": true
    },
    "kernelspec": {
      "name": "python3",
      "display_name": "Python 3"
    }
  },
  "cells": [
    {
      "cell_type": "markdown",
      "metadata": {
        "id": "view-in-github",
        "colab_type": "text"
      },
      "source": [
        "<a href=\"https://colab.research.google.com/github/justinb4003/4003colab/blob/main/205_Lab_3_polynomial_regression(students).ipynb\" target=\"_parent\"><img src=\"https://colab.research.google.com/assets/colab-badge.svg\" alt=\"Open In Colab\"/></a>"
      ]
    },
    {
      "cell_type": "markdown",
      "metadata": {
        "id": "aed74xcKJXXG"
      },
      "source": [
        "# Lab 3: Polynomial regression"
      ]
    },
    {
      "cell_type": "markdown",
      "metadata": {
        "id": "kAckzd0LWFFN"
      },
      "source": [
        "This lab will be due by midnight on **Monday, October 16**.  Please be sure to make a copy of this notebook, save your notebook when your work is complete (Ctrl + S or look under the File menu), and print the file to PDF. Each student in your group should upload the PDF to Blackboard in the usual way. The original version of this file can be found at http://gvsu.edu/s/289.\n",
        "\n",
        "The lab will be marked on a scale of 25 points; the points for each question are noted in the header of each of the 4 problems."
      ]
    },
    {
      "cell_type": "markdown",
      "metadata": {
        "id": "FBkNoViXWVNb"
      },
      "source": [
        "Please double click here and enter the names of everyone in your group.\n",
        "\n",
        "**Names:** Ben, Justin, Mandy"
      ]
    },
    {
      "cell_type": "markdown",
      "metadata": {
        "id": "gDfWRlimWaZK"
      },
      "source": [
        "As usual, evaluate the following cell to get started.  This loads some data and provides some convenient commands.  Some things to remember:\n",
        "\n",
        "1.   <code>onesvec(124)</code> gives a 124-dimensional vector whose entries are all one.\n",
        "2.   <code>v.norm()</code> gives the length of a vector and <code>v.demean()</code> returns the demeaned vector.\n",
        "3.   Remember the transpose when you define a matrix using a list of vectors: <code>matrix([v1, v2, v3]).T</code>\n",
        "4.   <code>Q, R = A.QR()</code> gives you the $QR$ factorization of $A$.\n",
        "5.   <code>a**2</code> gives you the square of a number $a$."
      ]
    },
    {
      "cell_type": "code",
      "metadata": {
        "id": "ygLbfAejJWio",
        "outputId": "4c1f3317-466b-4dcc-8d04-5a4ea1e6dd91",
        "colab": {
          "base_uri": "https://localhost:8080/"
        }
      },
      "source": [
        "!rm -rf mth205/\n",
        "!mkdir -p mth205\n",
        "!git clone https://github.com/davidaustinm/MTH205-W20.git mth205/\n",
        "import sys\n",
        "sys.path.append('/content/mth205/libs')\n",
        "from mth205 import *\n",
        "from math import *\n",
        "import numpy as np\n",
        "import pandas as pd"
      ],
      "execution_count": 32,
      "outputs": [
        {
          "output_type": "stream",
          "name": "stdout",
          "text": [
            "Cloning into 'mth205'...\n",
            "remote: Enumerating objects: 637, done.\u001b[K\n",
            "remote: Counting objects: 100% (146/146), done.\u001b[K\n",
            "remote: Compressing objects: 100% (110/110), done.\u001b[K\n",
            "remote: Total 637 (delta 57), reused 108 (delta 36), pack-reused 491\u001b[K\n",
            "Receiving objects: 100% (637/637), 659.82 KiB | 925.00 KiB/s, done.\n",
            "Resolving deltas: 100% (251/251), done.\n"
          ]
        }
      ]
    },
    {
      "cell_type": "markdown",
      "metadata": {
        "id": "YyiuH-_6Kt5P"
      },
      "source": [
        "## Problem 1 - 10 points (there are 6 prompts (each noted by \"*\"), and the points for them correspond to the number that follows in square brackets, such as \"[2]\")\n",
        "\n",
        "Recently, we've fit a linear function, either of the form $b + mx=y$ or, more generally,\n",
        "$$\\beta_0+\\beta_1x_1 + \\beta_2x_2 + \\ldots + \\beta_nx_n=y,$$\n",
        "to a few given datasets.\n",
        "\n",
        "The techniques we've developed so far can also be used to fit a polynomial to a set of data:  \n",
        "\n",
        "$$\\beta_0+\\beta_1x + \\beta_2x^2 + \\beta_3x^3 + \\ldots + \\beta_nx^n=y,$$\n",
        "\n",
        "Evaluating the following cell will load in some data, which can be plotted using the cell right after it."
      ]
    },
    {
      "cell_type": "code",
      "metadata": {
        "id": "U9Sy2NKHKq_g",
        "outputId": "8efafc75-0420-4e3b-aa12-5987f9be0ad3",
        "colab": {
          "base_uri": "https://localhost:8080/",
          "height": 175
        }
      },
      "source": [
        "df = pd.read_csv('/content/mth205/data/poly_data.csv')\n",
        "data = [vector(row) for row in df.values]\n",
        "df"
      ],
      "execution_count": 33,
      "outputs": [
        {
          "output_type": "execute_result",
          "data": {
            "text/plain": [
              "   x  y\n",
              "0  0  2\n",
              "1  1  1\n",
              "2  2  3\n",
              "3  3  3"
            ],
            "text/html": [
              "\n",
              "  <div id=\"df-c828a6e2-ec13-4635-9774-0bc87f6e54e3\" class=\"colab-df-container\">\n",
              "    <div>\n",
              "<style scoped>\n",
              "    .dataframe tbody tr th:only-of-type {\n",
              "        vertical-align: middle;\n",
              "    }\n",
              "\n",
              "    .dataframe tbody tr th {\n",
              "        vertical-align: top;\n",
              "    }\n",
              "\n",
              "    .dataframe thead th {\n",
              "        text-align: right;\n",
              "    }\n",
              "</style>\n",
              "<table border=\"1\" class=\"dataframe\">\n",
              "  <thead>\n",
              "    <tr style=\"text-align: right;\">\n",
              "      <th></th>\n",
              "      <th>x</th>\n",
              "      <th>y</th>\n",
              "    </tr>\n",
              "  </thead>\n",
              "  <tbody>\n",
              "    <tr>\n",
              "      <th>0</th>\n",
              "      <td>0</td>\n",
              "      <td>2</td>\n",
              "    </tr>\n",
              "    <tr>\n",
              "      <th>1</th>\n",
              "      <td>1</td>\n",
              "      <td>1</td>\n",
              "    </tr>\n",
              "    <tr>\n",
              "      <th>2</th>\n",
              "      <td>2</td>\n",
              "      <td>3</td>\n",
              "    </tr>\n",
              "    <tr>\n",
              "      <th>3</th>\n",
              "      <td>3</td>\n",
              "      <td>3</td>\n",
              "    </tr>\n",
              "  </tbody>\n",
              "</table>\n",
              "</div>\n",
              "    <div class=\"colab-df-buttons\">\n",
              "\n",
              "  <div class=\"colab-df-container\">\n",
              "    <button class=\"colab-df-convert\" onclick=\"convertToInteractive('df-c828a6e2-ec13-4635-9774-0bc87f6e54e3')\"\n",
              "            title=\"Convert this dataframe to an interactive table.\"\n",
              "            style=\"display:none;\">\n",
              "\n",
              "  <svg xmlns=\"http://www.w3.org/2000/svg\" height=\"24px\" viewBox=\"0 -960 960 960\">\n",
              "    <path d=\"M120-120v-720h720v720H120Zm60-500h600v-160H180v160Zm220 220h160v-160H400v160Zm0 220h160v-160H400v160ZM180-400h160v-160H180v160Zm440 0h160v-160H620v160ZM180-180h160v-160H180v160Zm440 0h160v-160H620v160Z\"/>\n",
              "  </svg>\n",
              "    </button>\n",
              "\n",
              "  <style>\n",
              "    .colab-df-container {\n",
              "      display:flex;\n",
              "      gap: 12px;\n",
              "    }\n",
              "\n",
              "    .colab-df-convert {\n",
              "      background-color: #E8F0FE;\n",
              "      border: none;\n",
              "      border-radius: 50%;\n",
              "      cursor: pointer;\n",
              "      display: none;\n",
              "      fill: #1967D2;\n",
              "      height: 32px;\n",
              "      padding: 0 0 0 0;\n",
              "      width: 32px;\n",
              "    }\n",
              "\n",
              "    .colab-df-convert:hover {\n",
              "      background-color: #E2EBFA;\n",
              "      box-shadow: 0px 1px 2px rgba(60, 64, 67, 0.3), 0px 1px 3px 1px rgba(60, 64, 67, 0.15);\n",
              "      fill: #174EA6;\n",
              "    }\n",
              "\n",
              "    .colab-df-buttons div {\n",
              "      margin-bottom: 4px;\n",
              "    }\n",
              "\n",
              "    [theme=dark] .colab-df-convert {\n",
              "      background-color: #3B4455;\n",
              "      fill: #D2E3FC;\n",
              "    }\n",
              "\n",
              "    [theme=dark] .colab-df-convert:hover {\n",
              "      background-color: #434B5C;\n",
              "      box-shadow: 0px 1px 3px 1px rgba(0, 0, 0, 0.15);\n",
              "      filter: drop-shadow(0px 1px 2px rgba(0, 0, 0, 0.3));\n",
              "      fill: #FFFFFF;\n",
              "    }\n",
              "  </style>\n",
              "\n",
              "    <script>\n",
              "      const buttonEl =\n",
              "        document.querySelector('#df-c828a6e2-ec13-4635-9774-0bc87f6e54e3 button.colab-df-convert');\n",
              "      buttonEl.style.display =\n",
              "        google.colab.kernel.accessAllowed ? 'block' : 'none';\n",
              "\n",
              "      async function convertToInteractive(key) {\n",
              "        const element = document.querySelector('#df-c828a6e2-ec13-4635-9774-0bc87f6e54e3');\n",
              "        const dataTable =\n",
              "          await google.colab.kernel.invokeFunction('convertToInteractive',\n",
              "                                                    [key], {});\n",
              "        if (!dataTable) return;\n",
              "\n",
              "        const docLinkHtml = 'Like what you see? Visit the ' +\n",
              "          '<a target=\"_blank\" href=https://colab.research.google.com/notebooks/data_table.ipynb>data table notebook</a>'\n",
              "          + ' to learn more about interactive tables.';\n",
              "        element.innerHTML = '';\n",
              "        dataTable['output_type'] = 'display_data';\n",
              "        await google.colab.output.renderOutput(dataTable, element);\n",
              "        const docLink = document.createElement('div');\n",
              "        docLink.innerHTML = docLinkHtml;\n",
              "        element.appendChild(docLink);\n",
              "      }\n",
              "    </script>\n",
              "  </div>\n",
              "\n",
              "\n",
              "<div id=\"df-f43d47fb-1f30-44d0-b7e0-d7dd83f081b2\">\n",
              "  <button class=\"colab-df-quickchart\" onclick=\"quickchart('df-f43d47fb-1f30-44d0-b7e0-d7dd83f081b2')\"\n",
              "            title=\"Suggest charts.\"\n",
              "            style=\"display:none;\">\n",
              "\n",
              "<svg xmlns=\"http://www.w3.org/2000/svg\" height=\"24px\"viewBox=\"0 0 24 24\"\n",
              "     width=\"24px\">\n",
              "    <g>\n",
              "        <path d=\"M19 3H5c-1.1 0-2 .9-2 2v14c0 1.1.9 2 2 2h14c1.1 0 2-.9 2-2V5c0-1.1-.9-2-2-2zM9 17H7v-7h2v7zm4 0h-2V7h2v10zm4 0h-2v-4h2v4z\"/>\n",
              "    </g>\n",
              "</svg>\n",
              "  </button>\n",
              "\n",
              "<style>\n",
              "  .colab-df-quickchart {\n",
              "      --bg-color: #E8F0FE;\n",
              "      --fill-color: #1967D2;\n",
              "      --hover-bg-color: #E2EBFA;\n",
              "      --hover-fill-color: #174EA6;\n",
              "      --disabled-fill-color: #AAA;\n",
              "      --disabled-bg-color: #DDD;\n",
              "  }\n",
              "\n",
              "  [theme=dark] .colab-df-quickchart {\n",
              "      --bg-color: #3B4455;\n",
              "      --fill-color: #D2E3FC;\n",
              "      --hover-bg-color: #434B5C;\n",
              "      --hover-fill-color: #FFFFFF;\n",
              "      --disabled-bg-color: #3B4455;\n",
              "      --disabled-fill-color: #666;\n",
              "  }\n",
              "\n",
              "  .colab-df-quickchart {\n",
              "    background-color: var(--bg-color);\n",
              "    border: none;\n",
              "    border-radius: 50%;\n",
              "    cursor: pointer;\n",
              "    display: none;\n",
              "    fill: var(--fill-color);\n",
              "    height: 32px;\n",
              "    padding: 0;\n",
              "    width: 32px;\n",
              "  }\n",
              "\n",
              "  .colab-df-quickchart:hover {\n",
              "    background-color: var(--hover-bg-color);\n",
              "    box-shadow: 0 1px 2px rgba(60, 64, 67, 0.3), 0 1px 3px 1px rgba(60, 64, 67, 0.15);\n",
              "    fill: var(--button-hover-fill-color);\n",
              "  }\n",
              "\n",
              "  .colab-df-quickchart-complete:disabled,\n",
              "  .colab-df-quickchart-complete:disabled:hover {\n",
              "    background-color: var(--disabled-bg-color);\n",
              "    fill: var(--disabled-fill-color);\n",
              "    box-shadow: none;\n",
              "  }\n",
              "\n",
              "  .colab-df-spinner {\n",
              "    border: 2px solid var(--fill-color);\n",
              "    border-color: transparent;\n",
              "    border-bottom-color: var(--fill-color);\n",
              "    animation:\n",
              "      spin 1s steps(1) infinite;\n",
              "  }\n",
              "\n",
              "  @keyframes spin {\n",
              "    0% {\n",
              "      border-color: transparent;\n",
              "      border-bottom-color: var(--fill-color);\n",
              "      border-left-color: var(--fill-color);\n",
              "    }\n",
              "    20% {\n",
              "      border-color: transparent;\n",
              "      border-left-color: var(--fill-color);\n",
              "      border-top-color: var(--fill-color);\n",
              "    }\n",
              "    30% {\n",
              "      border-color: transparent;\n",
              "      border-left-color: var(--fill-color);\n",
              "      border-top-color: var(--fill-color);\n",
              "      border-right-color: var(--fill-color);\n",
              "    }\n",
              "    40% {\n",
              "      border-color: transparent;\n",
              "      border-right-color: var(--fill-color);\n",
              "      border-top-color: var(--fill-color);\n",
              "    }\n",
              "    60% {\n",
              "      border-color: transparent;\n",
              "      border-right-color: var(--fill-color);\n",
              "    }\n",
              "    80% {\n",
              "      border-color: transparent;\n",
              "      border-right-color: var(--fill-color);\n",
              "      border-bottom-color: var(--fill-color);\n",
              "    }\n",
              "    90% {\n",
              "      border-color: transparent;\n",
              "      border-bottom-color: var(--fill-color);\n",
              "    }\n",
              "  }\n",
              "</style>\n",
              "\n",
              "  <script>\n",
              "    async function quickchart(key) {\n",
              "      const quickchartButtonEl =\n",
              "        document.querySelector('#' + key + ' button');\n",
              "      quickchartButtonEl.disabled = true;  // To prevent multiple clicks.\n",
              "      quickchartButtonEl.classList.add('colab-df-spinner');\n",
              "      try {\n",
              "        const charts = await google.colab.kernel.invokeFunction(\n",
              "            'suggestCharts', [key], {});\n",
              "      } catch (error) {\n",
              "        console.error('Error during call to suggestCharts:', error);\n",
              "      }\n",
              "      quickchartButtonEl.classList.remove('colab-df-spinner');\n",
              "      quickchartButtonEl.classList.add('colab-df-quickchart-complete');\n",
              "    }\n",
              "    (() => {\n",
              "      let quickchartButtonEl =\n",
              "        document.querySelector('#df-f43d47fb-1f30-44d0-b7e0-d7dd83f081b2 button');\n",
              "      quickchartButtonEl.style.display =\n",
              "        google.colab.kernel.accessAllowed ? 'block' : 'none';\n",
              "    })();\n",
              "  </script>\n",
              "</div>\n",
              "\n",
              "  <div id=\"id_f42dbc9d-670b-4096-943f-026ec8e54877\">\n",
              "    <style>\n",
              "      .colab-df-generate {\n",
              "        background-color: #E8F0FE;\n",
              "        border: none;\n",
              "        border-radius: 50%;\n",
              "        cursor: pointer;\n",
              "        display: none;\n",
              "        fill: #1967D2;\n",
              "        height: 32px;\n",
              "        padding: 0 0 0 0;\n",
              "        width: 32px;\n",
              "      }\n",
              "\n",
              "      .colab-df-generate:hover {\n",
              "        background-color: #E2EBFA;\n",
              "        box-shadow: 0px 1px 2px rgba(60, 64, 67, 0.3), 0px 1px 3px 1px rgba(60, 64, 67, 0.15);\n",
              "        fill: #174EA6;\n",
              "      }\n",
              "\n",
              "      [theme=dark] .colab-df-generate {\n",
              "        background-color: #3B4455;\n",
              "        fill: #D2E3FC;\n",
              "      }\n",
              "\n",
              "      [theme=dark] .colab-df-generate:hover {\n",
              "        background-color: #434B5C;\n",
              "        box-shadow: 0px 1px 3px 1px rgba(0, 0, 0, 0.15);\n",
              "        filter: drop-shadow(0px 1px 2px rgba(0, 0, 0, 0.3));\n",
              "        fill: #FFFFFF;\n",
              "      }\n",
              "    </style>\n",
              "    <button class=\"colab-df-generate\" onclick=\"generateWithVariable('df')\"\n",
              "            title=\"Generate code using this dataframe.\"\n",
              "            style=\"display:none;\">\n",
              "\n",
              "  <svg xmlns=\"http://www.w3.org/2000/svg\" height=\"24px\"viewBox=\"0 0 24 24\"\n",
              "       width=\"24px\">\n",
              "    <path d=\"M7,19H8.4L18.45,9,17,7.55,7,17.6ZM5,21V16.75L18.45,3.32a2,2,0,0,1,2.83,0l1.4,1.43a1.91,1.91,0,0,1,.58,1.4,1.91,1.91,0,0,1-.58,1.4L9.25,21ZM18.45,9,17,7.55Zm-12,3A5.31,5.31,0,0,0,4.9,8.1,5.31,5.31,0,0,0,1,6.5,5.31,5.31,0,0,0,4.9,4.9,5.31,5.31,0,0,0,6.5,1,5.31,5.31,0,0,0,8.1,4.9,5.31,5.31,0,0,0,12,6.5,5.46,5.46,0,0,0,6.5,12Z\"/>\n",
              "  </svg>\n",
              "    </button>\n",
              "    <script>\n",
              "      (() => {\n",
              "      const buttonEl =\n",
              "        document.querySelector('#id_f42dbc9d-670b-4096-943f-026ec8e54877 button.colab-df-generate');\n",
              "      buttonEl.style.display =\n",
              "        google.colab.kernel.accessAllowed ? 'block' : 'none';\n",
              "\n",
              "      buttonEl.onclick = () => {\n",
              "        google.colab.notebook.generateWithVariable('df');\n",
              "      }\n",
              "      })();\n",
              "    </script>\n",
              "  </div>\n",
              "\n",
              "    </div>\n",
              "  </div>\n"
            ]
          },
          "metadata": {},
          "execution_count": 33
        }
      ]
    },
    {
      "cell_type": "code",
      "metadata": {
        "id": "FpeJKTk0K_02",
        "outputId": "6f2d6653-c40a-47f3-ada9-da96f0632551",
        "colab": {
          "base_uri": "https://localhost:8080/",
          "height": 522
        }
      },
      "source": [
        "list_plot(data, color='blue', size=40)"
      ],
      "execution_count": 34,
      "outputs": [
        {
          "output_type": "display_data",
          "data": {
            "text/plain": [
              "<Figure size 800x600 with 1 Axes>"
            ],
            "image/png": "[encoded data removed]"
          },
          "metadata": {}
        }
      ]
    },
    {
      "cell_type": "markdown",
      "metadata": {
        "id": "KFbgYMkIN0DV"
      },
      "source": [
        "Fitting a linear function of the form $y=b + mx$ doesn't look like such a good idea.  Perhaps we could try a quadratic function of the form\n",
        "$$\n",
        "\\beta_0 + \\beta_1 x + \\beta_2 x^2 = y.\n",
        "$$\n",
        "\n",
        "*[2] Define a matrix $A$ and vector ${\\mathbf b}$ so that the solution $A{\\mathbf x} = {\\mathbf b}$ describes ${\\mathbf x} = \\begin{bmatrix} \\beta_0 \\\\ \\beta_1 \\\\ \\beta_2 \\end{bmatrix}$."
      ]
    },
    {
      "cell_type": "code",
      "metadata": {
        "id": "CO_Ow5vsLa-B"
      },
      "source": [
        "A = matrix([\n",
        "    [1, 0, 0],\n",
        "    [1, 1, 1],\n",
        "    [1, 2, 4],\n",
        "    [1, 3, 9],\n",
        "])\n",
        "\n",
        "b = vector((2, 1, 3, 3))"
      ],
      "execution_count": 48,
      "outputs": []
    },
    {
      "cell_type": "markdown",
      "metadata": {
        "id": "6qUCxzjEO7ux"
      },
      "source": [
        "*[2] Now find the $QR$ factorization of $A$ and use it to find the least squares approximate solution $\\widehat{\\mathbf x}$.  Call your least squares solution <code>xhat</code>."
      ]
    },
    {
      "cell_type": "code",
      "metadata": {
        "id": "XP67TFNxM2aj",
        "outputId": "c8fd7f4f-3e66-4a3e-d22c-2bd0de0259ab",
        "colab": {
          "base_uri": "https://localhost:8080/"
        }
      },
      "source": [
        "Q, R = A.QR()\n",
        "P = Q*Q.T\n",
        "bhat = P*b\n",
        "\n",
        "xhat = R.inverse()*Q.T*b\n",
        "xhat\n",
        "\n"
      ],
      "execution_count": 51,
      "outputs": [
        {
          "output_type": "execute_result",
          "data": {
            "text/plain": [
              "[ 1.75 -0.25  0.25]"
            ]
          },
          "metadata": {},
          "execution_count": 51
        }
      ]
    },
    {
      "cell_type": "markdown",
      "metadata": {
        "id": "yFcc9oDcPGon"
      },
      "source": [
        "You can plot your approximation along with the data using the following cell."
      ]
    },
    {
      "cell_type": "code",
      "metadata": {
        "id": "3PvuIJvuOwOZ",
        "outputId": "0fb15903-1219-4bd3-eccd-2a7a613d163f",
        "colab": {
          "base_uri": "https://localhost:8080/",
          "height": 522
        }
      },
      "source": [
        "plot_model(xhat, data)"
      ],
      "execution_count": 52,
      "outputs": [
        {
          "output_type": "display_data",
          "data": {
            "text/plain": [
              "<Figure size 800x600 with 1 Axes>"
            ],
            "image/png": "[encoded data removed]"
          },
          "metadata": {}
        }
      ]
    },
    {
      "cell_type": "markdown",
      "metadata": {
        "id": "I1TrCFR2fkOx"
      },
      "source": [
        "*[1] When $x=1.5$, what does your model predict for the value of $y$?"
      ]
    },
    {
      "cell_type": "code",
      "metadata": {
        "id": "SsA-k4SHfkuX",
        "outputId": "af3d9553-7977-45c5-90a5-bd1a9a18d76b",
        "colab": {
          "base_uri": "https://localhost:8080/"
        }
      },
      "source": [
        "A*xhat"
      ],
      "execution_count": 54,
      "outputs": [
        {
          "output_type": "execute_result",
          "data": {
            "text/plain": [
              "[1.75 1.75 2.25 3.25]"
            ]
          },
          "metadata": {},
          "execution_count": 54
        }
      ]
    },
    {
      "cell_type": "markdown",
      "metadata": {
        "id": "lVRQyD_DPOL4"
      },
      "source": [
        "Find the coefficient of determination $R^2$ for this model."
      ]
    },
    {
      "cell_type": "code",
      "metadata": {
        "id": "Htv-qP0HPMX5",
        "outputId": "45c5b9e7-13f7-4feb-9f37-ff2b623146cb",
        "colab": {
          "base_uri": "https://localhost:8080/"
        }
      },
      "source": [
        "num = (b-A*xhat).norm()**2\n",
        "denom = b.demean().norm()**2\n",
        "r = 1 - (num/denom)\n",
        "r"
      ],
      "execution_count": 56,
      "outputs": [
        {
          "output_type": "execute_result",
          "data": {
            "text/plain": [
              "0.5454545454545454"
            ]
          },
          "metadata": {},
          "execution_count": 56
        }
      ]
    },
    {
      "cell_type": "markdown",
      "metadata": {
        "id": "AanjZrQvPZDT"
      },
      "source": [
        "*[2] Now, suppose that we instead want to fit a cubic function to the data:\n",
        "\n",
        "$$\n",
        "y = \\beta_0 + \\beta_1x + \\beta_2x^2 + \\beta_3x^3.\n",
        "$$\n",
        "Find the least squares approximate solution $\\widehat{\\mathbf x}$.\n",
        "\n"
      ]
    },
    {
      "cell_type": "code",
      "metadata": {
        "id": "PVGW3xrePXW3",
        "outputId": "38baed8f-3c65-49bf-f296-fc1e58287316",
        "colab": {
          "base_uri": "https://localhost:8080/"
        }
      },
      "source": [
        "A = matrix([\n",
        "    [1, 0, 0, 0],\n",
        "    [1, 1, 1, 1],\n",
        "    [1, 2, 4, 8],\n",
        "    [1, 3, 9, 27],\n",
        "])\n",
        "\n",
        "b = vector((2, 1, 3, 3))\n",
        "\n",
        "Q, R = A.QR()\n",
        "P = Q*Q.T\n",
        "bhat = P*b\n",
        "\n",
        "S = A.augment(bhat).rref()\n",
        "print(S)\n",
        "xhat = vector((2, -4.1666, 4, -0.83333))"
      ],
      "execution_count": 57,
      "outputs": [
        {
          "output_type": "stream",
          "name": "stdout",
          "text": [
            "[[ 1.          0.          0.          0.          2.        ]\n",
            " [ 0.          1.          0.          0.         -4.16666667]\n",
            " [ 0.          0.          1.          0.          4.        ]\n",
            " [ 0.          0.          0.          1.         -0.83333333]]\n"
          ]
        }
      ]
    },
    {
      "cell_type": "markdown",
      "metadata": {
        "id": "3dpu4wctPv04"
      },
      "source": [
        "*[1] Find the coefficient of determination $R^2$."
      ]
    },
    {
      "cell_type": "code",
      "metadata": {
        "id": "RhfVaXRKPwis",
        "outputId": "c1cdb441-84b2-46e1-d03b-9d3568dc9a88",
        "colab": {
          "base_uri": "https://localhost:8080/"
        }
      },
      "source": [
        "num = (b-A*xhat).norm()**2\n",
        "denom = b.demean().norm()**2\n",
        "r = 1 - (num/denom)\n",
        "r\n"
      ],
      "execution_count": 60,
      "outputs": [
        {
          "output_type": "execute_result",
          "data": {
            "text/plain": [
              "0.9999999583272727"
            ]
          },
          "metadata": {},
          "execution_count": 60
        }
      ]
    },
    {
      "cell_type": "markdown",
      "metadata": {
        "id": "DJ5UDUanPxM8"
      },
      "source": [
        "Plot your model and the data below."
      ]
    },
    {
      "cell_type": "code",
      "metadata": {
        "id": "bRZel9KdPxyo",
        "outputId": "7d70570f-dc7b-44b5-d344-bafee79abaed",
        "colab": {
          "base_uri": "https://localhost:8080/",
          "height": 522
        }
      },
      "source": [
        "plot_model(xhat, data)"
      ],
      "execution_count": 59,
      "outputs": [
        {
          "output_type": "display_data",
          "data": {
            "text/plain": [
              "<Figure size 800x600 with 1 Axes>"
            ],
            "image/png": "[encoded data removed]"
          },
          "metadata": {}
        }
      ]
    },
    {
      "cell_type": "markdown",
      "metadata": {
        "id": "6KKdqZwHP7T4"
      },
      "source": [
        "*[2] What do you notice about the fit of your cubic model?  How is this reflected in the value of $R^2$."
      ]
    },
    {
      "cell_type": "markdown",
      "metadata": {
        "id": "wq_lG7rGQFIi"
      },
      "source": []
    },
    {
      "cell_type": "markdown",
      "metadata": {
        "id": "RliuybwmQIqO"
      },
      "source": [
        "## Problem 2 - 15 points (prompts at *, point values noted in square brackets, such as \"[4]\")\n",
        "\n",
        "Understanding climate change is a fundamental problem of our age. Given below is some data describing the extent of Arctic sea ice, measured in millions of square kilometers, by month of the year. Data is given for 1980 and 2012. The following cells provide the data and plots the 1980 data.  The 1980 sea ice data is contained in the vector <code>ice_1980</code> while the 2012 data is in the vector <code>ice_2012</code>; the vector containing the months of the year is <code>month</code>.  (This dataset comes from [Sustainability Math](http://sustainabilitymath.org/).)   Be sure to execute both cells below."
      ]
    },
    {
      "cell_type": "code",
      "metadata": {
        "id": "HxCk4sKdQDzI",
        "outputId": "4032e143-3904-42bf-93aa-8a41b0b2f78f",
        "colab": {
          "base_uri": "https://localhost:8080/",
          "height": 425
        }
      },
      "source": [
        "df = pd.read_csv('/content/mth205/data/sea_ice.csv')\n",
        "df = df[['Month', '1980', '2012']]\n",
        "data_1980 = [vector(row) for row in df.values[:, :2]]\n",
        "data_2012 = [vector(row) for row in df.values[:, [0,2]]]\n",
        "month = vector(df['Month'])\n",
        "ice_1980 = vector(df['1980'])\n",
        "ice_2012 = vector(df['2012'])\n",
        "df"
      ],
      "execution_count": 61,
      "outputs": [
        {
          "output_type": "execute_result",
          "data": {
            "text/plain": [
              "    Month   1980   2012\n",
              "0     1.0  14.86  13.73\n",
              "1     2.0  15.96  14.55\n",
              "2     3.0  16.04  15.20\n",
              "3     4.0  15.43  14.63\n",
              "4     5.0  13.79  13.01\n",
              "5     6.0  12.20  10.67\n",
              "6     7.0  10.10   7.67\n",
              "7     8.0   7.98   4.72\n",
              "8     9.0   7.67   3.57\n",
              "9    10.0   9.18   5.89\n",
              "10   11.0  11.38   9.39\n",
              "11   12.0  13.59  12.01"
            ],
            "text/html": [
              "\n",
              "  <div id=\"df-0651e0e9-cab5-4541-97e1-a6a454565174\" class=\"colab-df-container\">\n",
              "    <div>\n",
              "<style scoped>\n",
              "    .dataframe tbody tr th:only-of-type {\n",
              "        vertical-align: middle;\n",
              "    }\n",
              "\n",
              "    .dataframe tbody tr th {\n",
              "        vertical-align: top;\n",
              "    }\n",
              "\n",
              "    .dataframe thead th {\n",
              "        text-align: right;\n",
              "    }\n",
              "</style>\n",
              "<table border=\"1\" class=\"dataframe\">\n",
              "  <thead>\n",
              "    <tr style=\"text-align: right;\">\n",
              "      <th></th>\n",
              "      <th>Month</th>\n",
              "      <th>1980</th>\n",
              "      <th>2012</th>\n",
              "    </tr>\n",
              "  </thead>\n",
              "  <tbody>\n",
              "    <tr>\n",
              "      <th>0</th>\n",
              "      <td>1.0</td>\n",
              "      <td>14.86</td>\n",
              "      <td>13.73</td>\n",
              "    </tr>\n",
              "    <tr>\n",
              "      <th>1</th>\n",
              "      <td>2.0</td>\n",
              "      <td>15.96</td>\n",
              "      <td>14.55</td>\n",
              "    </tr>\n",
              "    <tr>\n",
              "      <th>2</th>\n",
              "      <td>3.0</td>\n",
              "      <td>16.04</td>\n",
              "      <td>15.20</td>\n",
              "    </tr>\n",
              "    <tr>\n",
              "      <th>3</th>\n",
              "      <td>4.0</td>\n",
              "      <td>15.43</td>\n",
              "      <td>14.63</td>\n",
              "    </tr>\n",
              "    <tr>\n",
              "      <th>4</th>\n",
              "      <td>5.0</td>\n",
              "      <td>13.79</td>\n",
              "      <td>13.01</td>\n",
              "    </tr>\n",
              "    <tr>\n",
              "      <th>5</th>\n",
              "      <td>6.0</td>\n",
              "      <td>12.20</td>\n",
              "      <td>10.67</td>\n",
              "    </tr>\n",
              "    <tr>\n",
              "      <th>6</th>\n",
              "      <td>7.0</td>\n",
              "      <td>10.10</td>\n",
              "      <td>7.67</td>\n",
              "    </tr>\n",
              "    <tr>\n",
              "      <th>7</th>\n",
              "      <td>8.0</td>\n",
              "      <td>7.98</td>\n",
              "      <td>4.72</td>\n",
              "    </tr>\n",
              "    <tr>\n",
              "      <th>8</th>\n",
              "      <td>9.0</td>\n",
              "      <td>7.67</td>\n",
              "      <td>3.57</td>\n",
              "    </tr>\n",
              "    <tr>\n",
              "      <th>9</th>\n",
              "      <td>10.0</td>\n",
              "      <td>9.18</td>\n",
              "      <td>5.89</td>\n",
              "    </tr>\n",
              "    <tr>\n",
              "      <th>10</th>\n",
              "      <td>11.0</td>\n",
              "      <td>11.38</td>\n",
              "      <td>9.39</td>\n",
              "    </tr>\n",
              "    <tr>\n",
              "      <th>11</th>\n",
              "      <td>12.0</td>\n",
              "      <td>13.59</td>\n",
              "      <td>12.01</td>\n",
              "    </tr>\n",
              "  </tbody>\n",
              "</table>\n",
              "</div>\n",
              "    <div class=\"colab-df-buttons\">\n",
              "\n",
              "  <div class=\"colab-df-container\">\n",
              "    <button class=\"colab-df-convert\" onclick=\"convertToInteractive('df-0651e0e9-cab5-4541-97e1-a6a454565174')\"\n",
              "            title=\"Convert this dataframe to an interactive table.\"\n",
              "            style=\"display:none;\">\n",
              "\n",
              "  <svg xmlns=\"http://www.w3.org/2000/svg\" height=\"24px\" viewBox=\"0 -960 960 960\">\n",
              "    <path d=\"M120-120v-720h720v720H120Zm60-500h600v-160H180v160Zm220 220h160v-160H400v160Zm0 220h160v-160H400v160ZM180-400h160v-160H180v160Zm440 0h160v-160H620v160ZM180-180h160v-160H180v160Zm440 0h160v-160H620v160Z\"/>\n",
              "  </svg>\n",
              "    </button>\n",
              "\n",
              "  <style>\n",
              "    .colab-df-container {\n",
              "      display:flex;\n",
              "      gap: 12px;\n",
              "    }\n",
              "\n",
              "    .colab-df-convert {\n",
              "      background-color: #E8F0FE;\n",
              "      border: none;\n",
              "      border-radius: 50%;\n",
              "      cursor: pointer;\n",
              "      display: none;\n",
              "      fill: #1967D2;\n",
              "      height: 32px;\n",
              "      padding: 0 0 0 0;\n",
              "      width: 32px;\n",
              "    }\n",
              "\n",
              "    .colab-df-convert:hover {\n",
              "      background-color: #E2EBFA;\n",
              "      box-shadow: 0px 1px 2px rgba(60, 64, 67, 0.3), 0px 1px 3px 1px rgba(60, 64, 67, 0.15);\n",
              "      fill: #174EA6;\n",
              "    }\n",
              "\n",
              "    .colab-df-buttons div {\n",
              "      margin-bottom: 4px;\n",
              "    }\n",
              "\n",
              "    [theme=dark] .colab-df-convert {\n",
              "      background-color: #3B4455;\n",
              "      fill: #D2E3FC;\n",
              "    }\n",
              "\n",
              "    [theme=dark] .colab-df-convert:hover {\n",
              "      background-color: #434B5C;\n",
              "      box-shadow: 0px 1px 3px 1px rgba(0, 0, 0, 0.15);\n",
              "      filter: drop-shadow(0px 1px 2px rgba(0, 0, 0, 0.3));\n",
              "      fill: #FFFFFF;\n",
              "    }\n",
              "  </style>\n",
              "\n",
              "    <script>\n",
              "      const buttonEl =\n",
              "        document.querySelector('#df-0651e0e9-cab5-4541-97e1-a6a454565174 button.colab-df-convert');\n",
              "      buttonEl.style.display =\n",
              "        google.colab.kernel.accessAllowed ? 'block' : 'none';\n",
              "\n",
              "      async function convertToInteractive(key) {\n",
              "        const element = document.querySelector('#df-0651e0e9-cab5-4541-97e1-a6a454565174');\n",
              "        const dataTable =\n",
              "          await google.colab.kernel.invokeFunction('convertToInteractive',\n",
              "                                                    [key], {});\n",
              "        if (!dataTable) return;\n",
              "\n",
              "        const docLinkHtml = 'Like what you see? Visit the ' +\n",
              "          '<a target=\"_blank\" href=https://colab.research.google.com/notebooks/data_table.ipynb>data table notebook</a>'\n",
              "          + ' to learn more about interactive tables.';\n",
              "        element.innerHTML = '';\n",
              "        dataTable['output_type'] = 'display_data';\n",
              "        await google.colab.output.renderOutput(dataTable, element);\n",
              "        const docLink = document.createElement('div');\n",
              "        docLink.innerHTML = docLinkHtml;\n",
              "        element.appendChild(docLink);\n",
              "      }\n",
              "    </script>\n",
              "  </div>\n",
              "\n",
              "\n",
              "<div id=\"df-22b1102e-17d9-4916-b5dd-59838ed08c59\">\n",
              "  <button class=\"colab-df-quickchart\" onclick=\"quickchart('df-22b1102e-17d9-4916-b5dd-59838ed08c59')\"\n",
              "            title=\"Suggest charts.\"\n",
              "            style=\"display:none;\">\n",
              "\n",
              "<svg xmlns=\"http://www.w3.org/2000/svg\" height=\"24px\"viewBox=\"0 0 24 24\"\n",
              "     width=\"24px\">\n",
              "    <g>\n",
              "        <path d=\"M19 3H5c-1.1 0-2 .9-2 2v14c0 1.1.9 2 2 2h14c1.1 0 2-.9 2-2V5c0-1.1-.9-2-2-2zM9 17H7v-7h2v7zm4 0h-2V7h2v10zm4 0h-2v-4h2v4z\"/>\n",
              "    </g>\n",
              "</svg>\n",
              "  </button>\n",
              "\n",
              "<style>\n",
              "  .colab-df-quickchart {\n",
              "      --bg-color: #E8F0FE;\n",
              "      --fill-color: #1967D2;\n",
              "      --hover-bg-color: #E2EBFA;\n",
              "      --hover-fill-color: #174EA6;\n",
              "      --disabled-fill-color: #AAA;\n",
              "      --disabled-bg-color: #DDD;\n",
              "  }\n",
              "\n",
              "  [theme=dark] .colab-df-quickchart {\n",
              "      --bg-color: #3B4455;\n",
              "      --fill-color: #D2E3FC;\n",
              "      --hover-bg-color: #434B5C;\n",
              "      --hover-fill-color: #FFFFFF;\n",
              "      --disabled-bg-color: #3B4455;\n",
              "      --disabled-fill-color: #666;\n",
              "  }\n",
              "\n",
              "  .colab-df-quickchart {\n",
              "    background-color: var(--bg-color);\n",
              "    border: none;\n",
              "    border-radius: 50%;\n",
              "    cursor: pointer;\n",
              "    display: none;\n",
              "    fill: var(--fill-color);\n",
              "    height: 32px;\n",
              "    padding: 0;\n",
              "    width: 32px;\n",
              "  }\n",
              "\n",
              "  .colab-df-quickchart:hover {\n",
              "    background-color: var(--hover-bg-color);\n",
              "    box-shadow: 0 1px 2px rgba(60, 64, 67, 0.3), 0 1px 3px 1px rgba(60, 64, 67, 0.15);\n",
              "    fill: var(--button-hover-fill-color);\n",
              "  }\n",
              "\n",
              "  .colab-df-quickchart-complete:disabled,\n",
              "  .colab-df-quickchart-complete:disabled:hover {\n",
              "    background-color: var(--disabled-bg-color);\n",
              "    fill: var(--disabled-fill-color);\n",
              "    box-shadow: none;\n",
              "  }\n",
              "\n",
              "  .colab-df-spinner {\n",
              "    border: 2px solid var(--fill-color);\n",
              "    border-color: transparent;\n",
              "    border-bottom-color: var(--fill-color);\n",
              "    animation:\n",
              "      spin 1s steps(1) infinite;\n",
              "  }\n",
              "\n",
              "  @keyframes spin {\n",
              "    0% {\n",
              "      border-color: transparent;\n",
              "      border-bottom-color: var(--fill-color);\n",
              "      border-left-color: var(--fill-color);\n",
              "    }\n",
              "    20% {\n",
              "      border-color: transparent;\n",
              "      border-left-color: var(--fill-color);\n",
              "      border-top-color: var(--fill-color);\n",
              "    }\n",
              "    30% {\n",
              "      border-color: transparent;\n",
              "      border-left-color: var(--fill-color);\n",
              "      border-top-color: var(--fill-color);\n",
              "      border-right-color: var(--fill-color);\n",
              "    }\n",
              "    40% {\n",
              "      border-color: transparent;\n",
              "      border-right-color: var(--fill-color);\n",
              "      border-top-color: var(--fill-color);\n",
              "    }\n",
              "    60% {\n",
              "      border-color: transparent;\n",
              "      border-right-color: var(--fill-color);\n",
              "    }\n",
              "    80% {\n",
              "      border-color: transparent;\n",
              "      border-right-color: var(--fill-color);\n",
              "      border-bottom-color: var(--fill-color);\n",
              "    }\n",
              "    90% {\n",
              "      border-color: transparent;\n",
              "      border-bottom-color: var(--fill-color);\n",
              "    }\n",
              "  }\n",
              "</style>\n",
              "\n",
              "  <script>\n",
              "    async function quickchart(key) {\n",
              "      const quickchartButtonEl =\n",
              "        document.querySelector('#' + key + ' button');\n",
              "      quickchartButtonEl.disabled = true;  // To prevent multiple clicks.\n",
              "      quickchartButtonEl.classList.add('colab-df-spinner');\n",
              "      try {\n",
              "        const charts = await google.colab.kernel.invokeFunction(\n",
              "            'suggestCharts', [key], {});\n",
              "      } catch (error) {\n",
              "        console.error('Error during call to suggestCharts:', error);\n",
              "      }\n",
              "      quickchartButtonEl.classList.remove('colab-df-spinner');\n",
              "      quickchartButtonEl.classList.add('colab-df-quickchart-complete');\n",
              "    }\n",
              "    (() => {\n",
              "      let quickchartButtonEl =\n",
              "        document.querySelector('#df-22b1102e-17d9-4916-b5dd-59838ed08c59 button');\n",
              "      quickchartButtonEl.style.display =\n",
              "        google.colab.kernel.accessAllowed ? 'block' : 'none';\n",
              "    })();\n",
              "  </script>\n",
              "</div>\n",
              "\n",
              "  <div id=\"id_e32d7e92-9c4b-4b10-aff9-aa37badc0d0c\">\n",
              "    <style>\n",
              "      .colab-df-generate {\n",
              "        background-color: #E8F0FE;\n",
              "        border: none;\n",
              "        border-radius: 50%;\n",
              "        cursor: pointer;\n",
              "        display: none;\n",
              "        fill: #1967D2;\n",
              "        height: 32px;\n",
              "        padding: 0 0 0 0;\n",
              "        width: 32px;\n",
              "      }\n",
              "\n",
              "      .colab-df-generate:hover {\n",
              "        background-color: #E2EBFA;\n",
              "        box-shadow: 0px 1px 2px rgba(60, 64, 67, 0.3), 0px 1px 3px 1px rgba(60, 64, 67, 0.15);\n",
              "        fill: #174EA6;\n",
              "      }\n",
              "\n",
              "      [theme=dark] .colab-df-generate {\n",
              "        background-color: #3B4455;\n",
              "        fill: #D2E3FC;\n",
              "      }\n",
              "\n",
              "      [theme=dark] .colab-df-generate:hover {\n",
              "        background-color: #434B5C;\n",
              "        box-shadow: 0px 1px 3px 1px rgba(0, 0, 0, 0.15);\n",
              "        filter: drop-shadow(0px 1px 2px rgba(0, 0, 0, 0.3));\n",
              "        fill: #FFFFFF;\n",
              "      }\n",
              "    </style>\n",
              "    <button class=\"colab-df-generate\" onclick=\"generateWithVariable('df')\"\n",
              "            title=\"Generate code using this dataframe.\"\n",
              "            style=\"display:none;\">\n",
              "\n",
              "  <svg xmlns=\"http://www.w3.org/2000/svg\" height=\"24px\"viewBox=\"0 0 24 24\"\n",
              "       width=\"24px\">\n",
              "    <path d=\"M7,19H8.4L18.45,9,17,7.55,7,17.6ZM5,21V16.75L18.45,3.32a2,2,0,0,1,2.83,0l1.4,1.43a1.91,1.91,0,0,1,.58,1.4,1.91,1.91,0,0,1-.58,1.4L9.25,21ZM18.45,9,17,7.55Zm-12,3A5.31,5.31,0,0,0,4.9,8.1,5.31,5.31,0,0,0,1,6.5,5.31,5.31,0,0,0,4.9,4.9,5.31,5.31,0,0,0,6.5,1,5.31,5.31,0,0,0,8.1,4.9,5.31,5.31,0,0,0,12,6.5,5.46,5.46,0,0,0,6.5,12Z\"/>\n",
              "  </svg>\n",
              "    </button>\n",
              "    <script>\n",
              "      (() => {\n",
              "      const buttonEl =\n",
              "        document.querySelector('#id_e32d7e92-9c4b-4b10-aff9-aa37badc0d0c button.colab-df-generate');\n",
              "      buttonEl.style.display =\n",
              "        google.colab.kernel.accessAllowed ? 'block' : 'none';\n",
              "\n",
              "      buttonEl.onclick = () => {\n",
              "        google.colab.notebook.generateWithVariable('df');\n",
              "      }\n",
              "      })();\n",
              "    </script>\n",
              "  </div>\n",
              "\n",
              "    </div>\n",
              "  </div>\n"
            ]
          },
          "metadata": {},
          "execution_count": 61
        }
      ]
    },
    {
      "cell_type": "code",
      "metadata": {
        "id": "4QXL__fCQlJU",
        "outputId": "5708f3fb-8e4f-4fa9-dac8-b160f699f8f1",
        "colab": {
          "base_uri": "https://localhost:8080/",
          "height": 545
        }
      },
      "source": [
        "list_plot(data_1980, title='1980', ylim=(0,18))"
      ],
      "execution_count": 62,
      "outputs": [
        {
          "output_type": "display_data",
          "data": {
            "text/plain": [
              "<Figure size 800x600 with 1 Axes>"
            ],
            "image/png": "[encoded data removed]"
          },
          "metadata": {}
        }
      ]
    },
    {
      "cell_type": "markdown",
      "metadata": {
        "id": "weWX3GkGUXmS"
      },
      "source": [
        "We will look at fitting various polynomials of degree $k$ to the data:\n",
        "\n",
        "$$\n",
        "y = \\beta_0+\\beta_1x + \\beta_2x^2 + \\ldots + \\beta_kx^k.\n",
        "$$\n",
        "\n",
        "Because people do this a lot, there is a way to automate the formation of the matrix\n",
        "$$\n",
        "A =\n",
        "\\begin{bmatrix}\n",
        "1 & x_1 & x_1^2 & \\ldots & x_1\n",
        "^k \\\\\n",
        "1 & x_2 & x_2^2 & \\ldots & x_2^k \\\\\n",
        "\\vdots & \\vdots & \\vdots & \\ddots & \\vdots \\\\\n",
        "1 & x_m & x_m^2 & \\ldots & x_m^k \\\\\n",
        "\\end{bmatrix}.\n",
        "$$\n",
        "This matrix is called the *Vandermonde* matrix and you can obtain it with the command\n",
        "<code>vandermonde(x, k)</code> where <code>x</code> is the vector of $x$-coordinates and $k$ is the degree of the polynomial.\n",
        "\n",
        "*[4] Begin by fitting a polynomial of degree 5 to the 1980 data.  To accomplish this, you will need to do the following:\n",
        "  + identify the matrix $A$, which is a *Vandermonde* matrix\n",
        "  + identify the vector $\\mathbf{b}$ for which we want to solve $A \\mathbf{x} = \\mathbf{b}$\n",
        "  + find the least squares solution to $A \\mathbf{x} = \\mathbf{b}$ using our now-standard approach with the QR factorization\n",
        "  + call your least-squares solution <code>xhat</code>\n"
      ]
    },
    {
      "cell_type": "code",
      "metadata": {
        "id": "ZITNLSLcRpZw"
      },
      "source": [
        "\n"
      ],
      "execution_count": null,
      "outputs": []
    },
    {
      "cell_type": "markdown",
      "metadata": {
        "id": "HaZRlkIQXloc"
      },
      "source": [
        "Plot your resulting model below by executing the given line of code."
      ]
    },
    {
      "cell_type": "code",
      "metadata": {
        "id": "UN6uXXtORr-4"
      },
      "source": [
        "plot_model(xhat, data_1980, title='k = 5', ylim=(0,18))"
      ],
      "execution_count": null,
      "outputs": []
    },
    {
      "cell_type": "markdown",
      "metadata": {
        "id": "mxiaxXx-YQKI"
      },
      "source": [
        "*[1] Find the coefficient of determination $R^2$ for your model when $k=5$."
      ]
    },
    {
      "cell_type": "code",
      "metadata": {
        "id": "wrTYx4jnYQzB"
      },
      "source": [],
      "execution_count": null,
      "outputs": []
    },
    {
      "cell_type": "markdown",
      "metadata": {
        "id": "MfQ7akW4XrJK"
      },
      "source": [
        "*[2] Next, fit a degree $k=8$ polynomial to the data and and plot the polynomial and data.\n",
        "\n"
      ]
    },
    {
      "cell_type": "code",
      "metadata": {
        "id": "sV7EEJDmXYcr"
      },
      "source": [],
      "execution_count": null,
      "outputs": []
    },
    {
      "cell_type": "markdown",
      "metadata": {
        "id": "9tyZM-MhY05X"
      },
      "source": [
        "*[1] Find the coefficient of determination $R^2$ when $k=8$."
      ]
    },
    {
      "cell_type": "code",
      "metadata": {
        "id": "6IuT_9szY0ZK"
      },
      "source": [],
      "execution_count": null,
      "outputs": []
    },
    {
      "cell_type": "markdown",
      "metadata": {
        "id": "8Y0SnXUUXq1q"
      },
      "source": [
        "*[1] And finally, repeat with $k=11$.  "
      ]
    },
    {
      "cell_type": "code",
      "metadata": {
        "id": "D5_OFg2MY-3C"
      },
      "source": [],
      "execution_count": null,
      "outputs": []
    },
    {
      "cell_type": "markdown",
      "metadata": {
        "id": "0qY5g6IgY_75"
      },
      "source": [
        "*[1] And find the coefficient of determination $R^2$."
      ]
    },
    {
      "cell_type": "code",
      "metadata": {
        "id": "q1NRUi5yX9A1"
      },
      "source": [],
      "execution_count": null,
      "outputs": []
    },
    {
      "cell_type": "markdown",
      "metadata": {
        "id": "rw6LlaycXqY9"
      },
      "source": [
        "It's certainly the case that higher degree polynomials fit the data better, as can be seen with the higher $R^2$ values, but that's not always a good thing.  For instance, when $k=11$, you may notice that the polynomial wiggles a little more than it seems like it should.  In this case, the polynomial is trying too hard to fit the data, and the data will usually have some errors in it, especially if it's obtained from measurements.  The error built in to the data is called *noise*, and acknowledging its presence means that we shouldn't expect our polynomial to fit the data perfectly.  When we choose a polynomial whose degree is too high, we give the noise too much weight in the model, which leads to some undesirable behavior, like the wiggles in the graph.\n",
        "\n",
        "Adding parameters to a model increases the model's flexibility, but adding too many parameters makes the model too sensitive to noise.  This phenomenon is called *overfitting*.  \n",
        "\n",
        "There are ways of determining the optimal value of $k$, but that is a topic beyond the scope of our course."
      ]
    },
    {
      "cell_type": "markdown",
      "metadata": {
        "id": "VorJ7fSuhFjK"
      },
      "source": [
        "*[1] Choose a reasonable value of $k$ and estimate the extent of sea ice at month 6.5 of 1980."
      ]
    },
    {
      "cell_type": "code",
      "metadata": {
        "id": "lznXbyYVhGL5"
      },
      "source": [],
      "execution_count": null,
      "outputs": []
    },
    {
      "cell_type": "markdown",
      "metadata": {
        "id": "Z7of4VjIaYk4"
      },
      "source": [
        "Next, let's consider the 2012 data:"
      ]
    },
    {
      "cell_type": "code",
      "metadata": {
        "id": "l0nBmO_fZpHH"
      },
      "source": [
        "list_plot(data_2012, title='2012', ylim=(0,18))"
      ],
      "execution_count": null,
      "outputs": []
    },
    {
      "cell_type": "markdown",
      "metadata": {
        "id": "Evi3UpbUeWfM"
      },
      "source": [
        "*[3] Choose a reasonable value of $k$ and find a polynomial of that degree that fits the data.  Plot your model along with the data, and find the coefficient of determination 𝑅2."
      ]
    },
    {
      "cell_type": "code",
      "metadata": {
        "id": "7JrgBaJReVg8"
      },
      "source": [],
      "execution_count": null,
      "outputs": []
    },
    {
      "cell_type": "code",
      "source": [
        "plot_model(xhat, data_2012, title='k = ', ylim=(0,18))"
      ],
      "metadata": {
        "id": "jwYuTQ6QFxfQ"
      },
      "execution_count": null,
      "outputs": []
    },
    {
      "cell_type": "markdown",
      "metadata": {
        "id": "HpT_u_2c1CXw"
      },
      "source": [
        "*[1] Using your model, estimate the extent of sea ice at month 6.5 in 2012."
      ]
    },
    {
      "cell_type": "code",
      "metadata": {
        "id": "OtryAgfpelE5"
      },
      "source": [],
      "execution_count": null,
      "outputs": []
    },
    {
      "cell_type": "code",
      "metadata": {
        "id": "TqjPZa9ua7-r"
      },
      "source": [],
      "execution_count": null,
      "outputs": []
    }
  ]
}